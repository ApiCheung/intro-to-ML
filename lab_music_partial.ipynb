{
  "nbformat": 4,
  "nbformat_minor": 0,
  "metadata": {
    "anaconda-cloud": {},
    "kernelspec": {
      "display_name": "Python 3",
      "language": "python",
      "name": "python3"
    },
    "language_info": {
      "codemirror_mode": {
        "name": "ipython",
        "version": 3
      },
      "file_extension": ".py",
      "mimetype": "text/x-python",
      "name": "python",
      "nbconvert_exporter": "python",
      "pygments_lexer": "ipython3",
      "version": "3.8.3"
    },
    "colab": {
      "name": "lab_music_partial.ipynb",
      "provenance": [],
      "toc_visible": true
    }
  },
  "cells": [
    {
      "cell_type": "markdown",
      "metadata": {
        "id": "AqfNzEZy398P"
      },
      "source": [
        "# Lab:  Neural Networks for Music Classification\n",
        "\n",
        "In addition to the concepts in the [MNIST neural network demo](./demo2_mnist_neural.ipynb), in this lab, you will learn to:\n",
        "* Load a file from a URL\n",
        "* Extract simple features from audio samples for machine learning tasks such as speech recognition and classification\n",
        "* Build a simple neural network for music classification using these features\n",
        "* Use a callback to store the loss and accuracy history in the training process\n",
        "* Optimize the learning rate of the neural network\n",
        "\n",
        "To illustrate the basic concepts, we will look at a relatively simple music classification problem.  Given a sample of music, we want to determine which instrument (e.g. trumpet, violin, piano) is playing.  This dataset was generously supplied by [Prof. Juan Bello](http://steinhardt.nyu.edu/faculty/Juan_Pablo_Bello) at NYU Stenihardt  and his former PhD student Eric Humphrey (now at Spotify).  They have a complete website dedicated to deep learning methods in music informatics:\n",
        "\n",
        "http://marl.smusic.nyu.edu/wordpress/projects/feature-learning-deep-architectures/deep-learning-python-tutorial/\n",
        "\n",
        "You can also check out Juan's <a href=\"http://www.nyu.edu/classes/bello/ACA.html\">course</a>.\n",
        "\n"
      ]
    },
    {
      "cell_type": "markdown",
      "metadata": {
        "id": "6K4x6AJg398Q"
      },
      "source": [
        "## Loading Tensorflow\n",
        "\n",
        "Before starting this lab, you will need to install [Tensorflow](https://www.tensorflow.org/install/).  If you are using [Google colaboratory](https://colab.research.google.com), Tensorflow is already installed.  Run the following command to ensure Tensorflow is installed."
      ]
    },
    {
      "cell_type": "code",
      "metadata": {
        "id": "9xLSOKmW398R"
      },
      "source": [
        "import tensorflow as tf"
      ],
      "execution_count": 1,
      "outputs": []
    },
    {
      "cell_type": "markdown",
      "metadata": {
        "id": "GecKvQG6398U"
      },
      "source": [
        "Then, load the other packages."
      ]
    },
    {
      "cell_type": "code",
      "metadata": {
        "id": "-eMyb0HZ398V"
      },
      "source": [
        "import numpy as np\n",
        "import matplotlib\n",
        "import matplotlib.pyplot as plt"
      ],
      "execution_count": 3,
      "outputs": []
    },
    {
      "cell_type": "markdown",
      "metadata": {
        "id": "Vg0_-p25398Y"
      },
      "source": [
        "## Audio Feature Extraction with Librosa\n",
        "\n",
        "The key to audio classification is to extract the correct features. In addition to `keras`, we will need the `librosa` package.  The `librosa` package in python has a rich set of methods extracting the features of audio samples commonly used in machine learning tasks such as speech recognition and sound classification. \n",
        "\n",
        "Installation instructions and complete documentation for the package are given on the [librosa main page](https://librosa.github.io/librosa/).  On most systems, you should be able to simply use:\n",
        "\n",
        "    pip install librosa\n",
        "    \n",
        "For Unix, you may need to load some additional packages:\n",
        "\n",
        "    sudo apt-get install build-essential\n",
        "    sudo apt-get install libxext-dev python-qt4 qt4-dev-tools\n",
        "    pip install librosa\n",
        "    \n",
        "After you have installed the package, try to import it."
      ]
    },
    {
      "cell_type": "code",
      "metadata": {
        "id": "dKWNYNbf398Y"
      },
      "source": [
        "import librosa\n",
        "import librosa.display\n",
        "import librosa.feature"
      ],
      "execution_count": 4,
      "outputs": []
    },
    {
      "cell_type": "markdown",
      "metadata": {
        "id": "CKc3yaU5398b"
      },
      "source": [
        "In this lab, we will use a set of music samples from the website:\n",
        "\n",
        "http://theremin.music.uiowa.edu\n",
        "\n",
        "This website has a great set of samples for audio processing.  Look on the web for how to use the `requests.get` and `file.write` commands to load the file at the URL provided into your working directory.\n",
        "\n",
        "You can play the audio sample by copying the file to your local machine and playing it on any media player.  If you listen to it you will hear a soprano saxaphone (with vibrato) playing four notes (C, C#, D, Eb)."
      ]
    },
    {
      "cell_type": "code",
      "metadata": {
        "id": "pTPsA65N398c"
      },
      "source": [
        "import requests\n",
        "fn = \"SopSax.Vib.pp.C6Eb6.aiff\"\n",
        "url = \"http://theremin.music.uiowa.edu/sound files/MIS/Woodwinds/sopranosaxophone/\"+fn\n",
        "\n",
        "# TODO:  Load the file from url and save it in a file under the name fn\n",
        "req = requests.get(url)\n",
        "with open(fn, 'wb') as file:\n",
        "  file.write(req.content)"
      ],
      "execution_count": 63,
      "outputs": []
    },
    {
      "cell_type": "markdown",
      "metadata": {
        "id": "IgrhV1Uo398f"
      },
      "source": [
        "Next, use `librosa` command `librosa.load` to read the audio file with filename `fn` and get the samples `y` and sample rate `sr`."
      ]
    },
    {
      "cell_type": "code",
      "metadata": {
        "id": "klB7BhjG398f"
      },
      "source": [
        "# TODO\n",
        "y, sr = librosa.load(fn)"
      ],
      "execution_count": 64,
      "outputs": []
    },
    {
      "cell_type": "markdown",
      "metadata": {
        "id": "GcGvngwn398i"
      },
      "source": [
        "Extracting features from audio files is an entire subject on its own right.  A commonly used set of features are called the Mel Frequency Cepstral Coefficients (MFCCs).  These are derived from the so-called mel spectrogram which is something like a regular spectrogram, but the power and frequency are represented in log scale, which more naturally aligns with human perceptual processing.  You can run the code below to display the mel spectrogram from the audio sample.\n",
        "\n",
        "You can easily see the four notes played in the audio track.  You also see the 'harmonics' of each notes, which are other tones at integer multiples of the fundamental frequency of each note."
      ]
    },
    {
      "cell_type": "code",
      "metadata": {
        "id": "HOJGpRVv398j",
        "outputId": "7dd195bc-4c26-4eb2-9d46-c5b13ca99ca6",
        "colab": {
          "base_uri": "https://localhost:8080/",
          "height": 297
        }
      },
      "source": [
        "S = librosa.feature.melspectrogram(y=y, sr=sr, n_mels=128, fmax=8000)\n",
        "librosa.display.specshow(librosa.amplitude_to_db(S),\n",
        "                         y_axis='mel', fmax=8000, x_axis='time')\n",
        "plt.colorbar(format='%+2.0f dB')\n",
        "plt.title('Mel spectrogram')\n",
        "plt.tight_layout()"
      ],
      "execution_count": 65,
      "outputs": [
        {
          "output_type": "display_data",
          "data": {
            "image/png": "[encoded data removed]",
            "text/plain": [
              "<Figure size 432x288 with 2 Axes>"
            ]
          },
          "metadata": {
            "tags": [],
            "needs_background": "light"
          }
        }
      ]
    },
    {
      "cell_type": "markdown",
      "metadata": {
        "id": "XvFZYuSj398m"
      },
      "source": [
        "## Downloading the Data\n",
        "\n",
        "Using the MFCC features described above, Eric Humphrey and Juan Bellow have created a complete data set that can used for instrument classification.  Essentially, they collected a number of data files from the website above.  For each audio file, the segmented the track into notes and then extracted 120 MFCCs for each note.  The goal is to recognize the instrument from the 120 MFCCs.  The process of feature extraction is quite involved.  So, we will just use their processed data provided at:\n",
        "\n",
        "https://github.com/marl/dl4mir-tutorial/blob/master/README.md\n",
        "\n",
        "Note the password.  Load the four files into some directory, say  `instrument_dataset`.  Then, load them with the commands."
      ]
    },
    {
      "cell_type": "code",
      "metadata": {
        "id": "02fkgcM6398m"
      },
      "source": [
        "#data_dir = 'instrument_dataset/'\n",
        "Xtr = np.load('uiowa_train_data.npy')\n",
        "ytr = np.load('uiowa_train_labels.npy')\n",
        "Xts = np.load('uiowa_test_data.npy')\n",
        "yts = np.load('uiowa_test_labels.npy')"
      ],
      "execution_count": 66,
      "outputs": []
    },
    {
      "cell_type": "markdown",
      "metadata": {
        "id": "z06UKDpq398p"
      },
      "source": [
        "Looking at the data files:\n",
        "* What are the number of training and test samples?\n",
        "* What is the number of features for each sample?\n",
        "* How many classes (i.e. instruments) are there per class?\n"
      ]
    },
    {
      "cell_type": "code",
      "metadata": {
        "id": "iyS3mQlM398p",
        "outputId": "0e5b83c3-0e00-49fe-934a-78cf27694d71",
        "colab": {
          "base_uri": "https://localhost:8080/"
        }
      },
      "source": [
        "# TODO\n",
        "print('train' , Xtr.shape)\n",
        "print('test' , Xts.shape)\n",
        "print('feature' , Xtr.shape[1])\n",
        "print('class', np.max(ytr) + 1)"
      ],
      "execution_count": 67,
      "outputs": [
        {
          "output_type": "stream",
          "text": [
            "train (66247, 120)\n",
            "test (14904, 120)\n",
            "feature 120\n",
            "class 10\n"
          ],
          "name": "stdout"
        }
      ]
    },
    {
      "cell_type": "markdown",
      "metadata": {
        "id": "ywNg2W1t398s"
      },
      "source": [
        "Before continuing, you must scale the training and test data, `Xtr` and `Xts`.  Compute the mean and std deviation of each feature in `Xtr` and create a new training data set, `Xtr_scale`, by subtracting the mean and dividing by the std deviation.  Also compute a scaled test data set, `Xts_scale` using the mean and std deviation learned from the training data set."
      ]
    },
    {
      "cell_type": "code",
      "metadata": {
        "id": "Qu788I35398s"
      },
      "source": [
        "# TODO Scale the training and test matrices\n",
        "x_mean = np.mean(Xtr, axis=0)\n",
        "x_std = np.std(Xtr, axis=0)\n",
        "Xtr_scale = (Xtr-x_mean[None, :])/x_std[None, :]\n",
        "Xts_scale = (Xts-x_mean[None, :])/x_std[None, :]"
      ],
      "execution_count": 68,
      "outputs": []
    },
    {
      "cell_type": "markdown",
      "metadata": {
        "collapsed": true,
        "id": "aZ4iL4xS398u"
      },
      "source": [
        "## Building a Neural Network Classifier\n",
        "\n",
        "Following the example in [MNIST neural network demo](./mnist_neural.ipynb), clear the keras session.  Then, create a neural network `model` with:\n",
        "* `nh=256` hidden units\n",
        "* `sigmoid` activation\n",
        "* select the input and output shapes correctly\n",
        "* print the model summary"
      ]
    },
    {
      "cell_type": "code",
      "metadata": {
        "id": "D_FOiChL398v"
      },
      "source": [
        "from tensorflow.keras.models import Model, Sequential\n",
        "from tensorflow.keras.layers import Dense, Activation\n",
        "import tensorflow.keras.backend as K\n"
      ],
      "execution_count": 69,
      "outputs": []
    },
    {
      "cell_type": "code",
      "metadata": {
        "id": "nJt5y_Kw398x"
      },
      "source": [
        "# TODO clear session\n",
        "K.clear_session()"
      ],
      "execution_count": 70,
      "outputs": []
    },
    {
      "cell_type": "code",
      "metadata": {
        "id": "VrrK8kC3398z"
      },
      "source": [
        "# TODO: construct the model\n",
        "nin = Xtr.shape[1]\n",
        "nh = 256\n",
        "nout = np.max(ytr)+1\n",
        "model = Sequential()\n",
        "model.add(Dense(units=nh, input_shape=(nin,), activation='sigmoid', name='hidden'))\n",
        "model.add(Dense(units=nout, activation='softmax', name='output'))"
      ],
      "execution_count": 71,
      "outputs": []
    },
    {
      "cell_type": "code",
      "metadata": {
        "id": "ySMr71PL3982",
        "outputId": "e8090686-af46-482e-b71c-d2bbe6a6c002",
        "colab": {
          "base_uri": "https://localhost:8080/"
        }
      },
      "source": [
        "# TODO:  Print the model summary\n",
        "model.summary()"
      ],
      "execution_count": 72,
      "outputs": [
        {
          "output_type": "stream",
          "text": [
            "Model: \"sequential\"\n",
            "_________________________________________________________________\n",
            "Layer (type)                 Output Shape              Param #   \n",
            "=================================================================\n",
            "hidden (Dense)               (None, 256)               30976     \n",
            "_________________________________________________________________\n",
            "output (Dense)               (None, 10)                2570      \n",
            "=================================================================\n",
            "Total params: 33,546\n",
            "Trainable params: 33,546\n",
            "Non-trainable params: 0\n",
            "_________________________________________________________________\n"
          ],
          "name": "stdout"
        }
      ]
    },
    {
      "cell_type": "markdown",
      "metadata": {
        "id": "odXrD5Hb3984"
      },
      "source": [
        "Create an optimizer and compile the model.  Select the appropriate loss function and metrics.  For the optimizer, use the Adam optimizer with a learning rate of 0.001"
      ]
    },
    {
      "cell_type": "code",
      "metadata": {
        "scrolled": true,
        "id": "loiM7r-p3984"
      },
      "source": [
        "# TODO\n",
        "from keras import optimizers\n",
        "\n",
        "opt = optimizers.Adam(lr=0.001)\n",
        "model.compile(optimizer=opt,\n",
        "              loss='sparse_categorical_crossentropy',\n",
        "              metrics=['accuracy'])"
      ],
      "execution_count": 73,
      "outputs": []
    },
    {
      "cell_type": "markdown",
      "metadata": {
        "id": "n0gCQaCY3986"
      },
      "source": [
        "Fit the model for 10 epochs using the scaled data for both the training and validation.  Use the `validation_data` option to pass the test data.  Also, pass the callback class create above.  Use a batch size of 100.  Your final accuracy should be >99%."
      ]
    },
    {
      "cell_type": "code",
      "metadata": {
        "scrolled": true,
        "id": "fX-zpxKz3986",
        "outputId": "a0f2f75f-deae-4e28-c066-fa63c9011195",
        "colab": {
          "base_uri": "https://localhost:8080/"
        }
      },
      "source": [
        "# TODO\n",
        "batch_size = 100\n",
        "hist = model.fit(Xtr_scale, ytr, epochs=10, batch_size=batch_size, validation_data=(Xts_scale,yts))"
      ],
      "execution_count": 74,
      "outputs": [
        {
          "output_type": "stream",
          "text": [
            "Epoch 1/10\n",
            "663/663 [==============================] - 2s 2ms/step - loss: 0.3645 - accuracy: 0.9014 - val_loss: 0.1997 - val_accuracy: 0.9416\n",
            "Epoch 2/10\n",
            "663/663 [==============================] - 1s 2ms/step - loss: 0.1042 - accuracy: 0.9753 - val_loss: 0.1094 - val_accuracy: 0.9686\n",
            "Epoch 3/10\n",
            "663/663 [==============================] - 1s 2ms/step - loss: 0.0611 - accuracy: 0.9850 - val_loss: 0.0615 - val_accuracy: 0.9844\n",
            "Epoch 4/10\n",
            "663/663 [==============================] - 1s 2ms/step - loss: 0.0427 - accuracy: 0.9893 - val_loss: 0.0468 - val_accuracy: 0.9894\n",
            "Epoch 5/10\n",
            "663/663 [==============================] - 1s 2ms/step - loss: 0.0320 - accuracy: 0.9922 - val_loss: 0.0467 - val_accuracy: 0.9871\n",
            "Epoch 6/10\n",
            "663/663 [==============================] - 2s 2ms/step - loss: 0.0256 - accuracy: 0.9934 - val_loss: 0.0331 - val_accuracy: 0.9919\n",
            "Epoch 7/10\n",
            "663/663 [==============================] - 1s 2ms/step - loss: 0.0214 - accuracy: 0.9943 - val_loss: 0.0306 - val_accuracy: 0.9917\n",
            "Epoch 8/10\n",
            "663/663 [==============================] - 2s 2ms/step - loss: 0.0173 - accuracy: 0.9957 - val_loss: 0.0264 - val_accuracy: 0.9919\n",
            "Epoch 9/10\n",
            "663/663 [==============================] - 2s 2ms/step - loss: 0.0146 - accuracy: 0.9965 - val_loss: 0.0264 - val_accuracy: 0.9907\n",
            "Epoch 10/10\n",
            "663/663 [==============================] - 1s 2ms/step - loss: 0.0128 - accuracy: 0.9966 - val_loss: 0.0261 - val_accuracy: 0.9913\n"
          ],
          "name": "stdout"
        }
      ]
    },
    {
      "cell_type": "markdown",
      "metadata": {
        "id": "g4VYaAeg3988"
      },
      "source": [
        "Plot the validation accuracy saved in `hist.history` dictionary. This gives one accuracy value per epoch.  You should see that the validation accuracy saturates at a little higher than 99%.  After that it \"bounces around\" due to the noise in the stochastic gradient descent."
      ]
    },
    {
      "cell_type": "code",
      "metadata": {
        "id": "dV9WwgUT3989",
        "outputId": "5d974fde-1ff7-4d96-92c6-d78437978c37",
        "colab": {
          "base_uri": "https://localhost:8080/",
          "height": 283
        }
      },
      "source": [
        "# TODO\n",
        "val_acc = hist.history['val_accuracy']\n",
        "acc = hist.history['accuracy']\n",
        "\n",
        "plt.grid()\n",
        "plt.plot(val_acc)\n",
        "plt.plot(acc)"
      ],
      "execution_count": 75,
      "outputs": [
        {
          "output_type": "execute_result",
          "data": {
            "text/plain": [
              "[<matplotlib.lines.Line2D at 0x7f7ee4bb3198>]"
            ]
          },
          "metadata": {
            "tags": []
          },
          "execution_count": 75
        },
        {
          "output_type": "display_data",
          "data": {
            "image/png": "[encoded data removed]",
            "text/plain": [
              "<Figure size 432x288 with 1 Axes>"
            ]
          },
          "metadata": {
            "tags": [],
            "needs_background": "light"
          }
        }
      ]
    },
    {
      "cell_type": "markdown",
      "metadata": {
        "id": "qKjmCEBz398_"
      },
      "source": [
        "Plot the loss values saved in the `hist.history` dictionary.  You should see that the loss is steadily decreasing.  Use the `semilogy` plot."
      ]
    },
    {
      "cell_type": "code",
      "metadata": {
        "id": "7JQVpD3m398_",
        "outputId": "f7f4e73d-cdbf-4aa6-9cb9-236beeb648e9",
        "colab": {
          "base_uri": "https://localhost:8080/",
          "height": 282
        }
      },
      "source": [
        "# TODO\n",
        "loss = hist.history['loss']\n",
        "plt.grid()\n",
        "plt.plot(loss)"
      ],
      "execution_count": 76,
      "outputs": [
        {
          "output_type": "execute_result",
          "data": {
            "text/plain": [
              "[<matplotlib.lines.Line2D at 0x7f7ee4bde358>]"
            ]
          },
          "metadata": {
            "tags": []
          },
          "execution_count": 76
        },
        {
          "output_type": "display_data",
          "data": {
            "image/png": "[encoded data removed]",
            "text/plain": [
              "<Figure size 432x288 with 1 Axes>"
            ]
          },
          "metadata": {
            "tags": [],
            "needs_background": "light"
          }
        }
      ]
    },
    {
      "cell_type": "markdown",
      "metadata": {
        "id": "DXoY64Zy399B"
      },
      "source": [
        "## Optimizing the Learning Rate\n",
        "\n",
        "One challenge in training neural networks is the selection of the learning rate.  Rerun the above code, trying four learning rates as shown in the vector `rates`.  For each learning rate:\n",
        "* clear the session\n",
        "* construct the network\n",
        "* select the optimizer.  Use the Adam optimizer with the appropriate learrning rate.\n",
        "* train the model for 20 epochs\n",
        "* save the accuracy and losses"
      ]
    },
    {
      "cell_type": "code",
      "metadata": {
        "id": "_7oC0fmx399C",
        "outputId": "67c57cc7-01c7-4351-fb1e-2604b7f13449",
        "colab": {
          "base_uri": "https://localhost:8080/"
        }
      },
      "source": [
        "rates = [0.01,0.001,0.0001]\n",
        "batch_size = 100\n",
        "loss_hist = []\n",
        "\n",
        "\n",
        "# TODO\n",
        "for lr in rates:\n",
        "  K.clear_session()\n",
        "  model = Sequential()\n",
        "  model.add(Dense(units=nh, input_shape=(nin,), activation='sigmoid', name='hidden'))\n",
        "  model.add(Dense(units=nout, activation='softmax', name='output'))\n",
        "\n",
        "  opt = optimizers.Adam(lr = lr)\n",
        "  model.compile(optimizer=opt,\n",
        "              loss='sparse_categorical_crossentropy',\n",
        "              metrics=['accuracy'])\n",
        "\n",
        "  hist = model.fit(Xtr_scale, ytr, epochs=20, batch_size=batch_size, validation_data=(Xts_scale,yts))\n",
        "  loss_hist.append(hist.history['loss'])\n",
        "\n"
      ],
      "execution_count": 80,
      "outputs": [
        {
          "output_type": "stream",
          "text": [
            "Epoch 1/20\n",
            "663/663 [==============================] - 2s 3ms/step - loss: 0.1078 - accuracy: 0.9661 - val_loss: 0.0434 - val_accuracy: 0.9858\n",
            "Epoch 2/20\n",
            "663/663 [==============================] - 1s 2ms/step - loss: 0.0294 - accuracy: 0.9906 - val_loss: 0.0484 - val_accuracy: 0.9828\n",
            "Epoch 3/20\n",
            "663/663 [==============================] - 1s 2ms/step - loss: 0.0224 - accuracy: 0.9927 - val_loss: 0.0475 - val_accuracy: 0.9817\n",
            "Epoch 4/20\n",
            "663/663 [==============================] - 1s 2ms/step - loss: 0.0168 - accuracy: 0.9947 - val_loss: 0.0314 - val_accuracy: 0.9885\n",
            "Epoch 5/20\n",
            "663/663 [==============================] - 1s 2ms/step - loss: 0.0170 - accuracy: 0.9944 - val_loss: 0.0365 - val_accuracy: 0.9880\n",
            "Epoch 6/20\n",
            "663/663 [==============================] - 1s 2ms/step - loss: 0.0142 - accuracy: 0.9952 - val_loss: 0.0318 - val_accuracy: 0.9900\n",
            "Epoch 7/20\n",
            "663/663 [==============================] - 1s 2ms/step - loss: 0.0125 - accuracy: 0.9960 - val_loss: 0.0642 - val_accuracy: 0.9813\n",
            "Epoch 8/20\n",
            "663/663 [==============================] - 1s 2ms/step - loss: 0.0153 - accuracy: 0.9953 - val_loss: 0.0429 - val_accuracy: 0.9869\n",
            "Epoch 9/20\n",
            "663/663 [==============================] - 1s 2ms/step - loss: 0.0134 - accuracy: 0.9956 - val_loss: 0.0791 - val_accuracy: 0.9777\n",
            "Epoch 10/20\n",
            "663/663 [==============================] - 1s 2ms/step - loss: 0.0136 - accuracy: 0.9958 - val_loss: 0.0600 - val_accuracy: 0.9821\n",
            "Epoch 11/20\n",
            "663/663 [==============================] - 1s 2ms/step - loss: 0.0096 - accuracy: 0.9970 - val_loss: 0.0503 - val_accuracy: 0.9848\n",
            "Epoch 12/20\n",
            "663/663 [==============================] - 1s 2ms/step - loss: 0.0097 - accuracy: 0.9973 - val_loss: 0.0863 - val_accuracy: 0.9795\n",
            "Epoch 13/20\n",
            "663/663 [==============================] - 2s 2ms/step - loss: 0.0096 - accuracy: 0.9970 - val_loss: 0.0517 - val_accuracy: 0.9865\n",
            "Epoch 14/20\n",
            "663/663 [==============================] - 1s 2ms/step - loss: 0.0106 - accuracy: 0.9968 - val_loss: 0.1028 - val_accuracy: 0.9793\n",
            "Epoch 15/20\n",
            "663/663 [==============================] - 1s 2ms/step - loss: 0.0117 - accuracy: 0.9963 - val_loss: 0.0734 - val_accuracy: 0.9832\n",
            "Epoch 16/20\n",
            "663/663 [==============================] - 2s 2ms/step - loss: 0.0087 - accuracy: 0.9972 - val_loss: 0.0851 - val_accuracy: 0.9792\n",
            "Epoch 17/20\n",
            "663/663 [==============================] - 1s 2ms/step - loss: 0.0095 - accuracy: 0.9973 - val_loss: 0.1112 - val_accuracy: 0.9795\n",
            "Epoch 18/20\n",
            "663/663 [==============================] - 1s 2ms/step - loss: 0.0075 - accuracy: 0.9975 - val_loss: 0.0657 - val_accuracy: 0.9850\n",
            "Epoch 19/20\n",
            "663/663 [==============================] - 1s 2ms/step - loss: 0.0103 - accuracy: 0.9970 - val_loss: 0.0473 - val_accuracy: 0.9900\n",
            "Epoch 20/20\n",
            "663/663 [==============================] - 2s 2ms/step - loss: 0.0088 - accuracy: 0.9975 - val_loss: 0.0480 - val_accuracy: 0.9895\n",
            "Epoch 1/20\n",
            "663/663 [==============================] - 2s 2ms/step - loss: 0.3689 - accuracy: 0.9005 - val_loss: 0.1962 - val_accuracy: 0.9422\n",
            "Epoch 2/20\n",
            "663/663 [==============================] - 2s 2ms/step - loss: 0.1047 - accuracy: 0.9750 - val_loss: 0.0951 - val_accuracy: 0.9764\n",
            "Epoch 3/20\n",
            "663/663 [==============================] - 1s 2ms/step - loss: 0.0616 - accuracy: 0.9849 - val_loss: 0.0657 - val_accuracy: 0.9838\n",
            "Epoch 4/20\n",
            "663/663 [==============================] - 1s 2ms/step - loss: 0.0430 - accuracy: 0.9893 - val_loss: 0.0517 - val_accuracy: 0.9854\n",
            "Epoch 5/20\n",
            "663/663 [==============================] - 2s 2ms/step - loss: 0.0325 - accuracy: 0.9917 - val_loss: 0.0496 - val_accuracy: 0.9854\n",
            "Epoch 6/20\n",
            "663/663 [==============================] - 1s 2ms/step - loss: 0.0258 - accuracy: 0.9934 - val_loss: 0.0410 - val_accuracy: 0.9883\n",
            "Epoch 7/20\n",
            "663/663 [==============================] - 2s 2ms/step - loss: 0.0211 - accuracy: 0.9943 - val_loss: 0.0294 - val_accuracy: 0.9919\n",
            "Epoch 8/20\n",
            "663/663 [==============================] - 1s 2ms/step - loss: 0.0178 - accuracy: 0.9952 - val_loss: 0.0338 - val_accuracy: 0.9895\n",
            "Epoch 9/20\n",
            "663/663 [==============================] - 1s 2ms/step - loss: 0.0151 - accuracy: 0.9961 - val_loss: 0.0262 - val_accuracy: 0.9926\n",
            "Epoch 10/20\n",
            "663/663 [==============================] - 2s 2ms/step - loss: 0.0132 - accuracy: 0.9967 - val_loss: 0.0274 - val_accuracy: 0.9913\n",
            "Epoch 11/20\n",
            "663/663 [==============================] - 2s 2ms/step - loss: 0.0114 - accuracy: 0.9969 - val_loss: 0.0312 - val_accuracy: 0.9895\n",
            "Epoch 12/20\n",
            "663/663 [==============================] - 2s 2ms/step - loss: 0.0102 - accuracy: 0.9973 - val_loss: 0.0220 - val_accuracy: 0.9924\n",
            "Epoch 13/20\n",
            "663/663 [==============================] - 2s 2ms/step - loss: 0.0092 - accuracy: 0.9975 - val_loss: 0.0260 - val_accuracy: 0.9901\n",
            "Epoch 14/20\n",
            "663/663 [==============================] - 2s 2ms/step - loss: 0.0085 - accuracy: 0.9979 - val_loss: 0.0265 - val_accuracy: 0.9899\n",
            "Epoch 15/20\n",
            "663/663 [==============================] - 2s 2ms/step - loss: 0.0077 - accuracy: 0.9980 - val_loss: 0.0253 - val_accuracy: 0.9907\n",
            "Epoch 16/20\n",
            "663/663 [==============================] - 1s 2ms/step - loss: 0.0068 - accuracy: 0.9982 - val_loss: 0.0307 - val_accuracy: 0.9891\n",
            "Epoch 17/20\n",
            "663/663 [==============================] - 2s 2ms/step - loss: 0.0064 - accuracy: 0.9983 - val_loss: 0.0288 - val_accuracy: 0.9899\n",
            "Epoch 18/20\n",
            "663/663 [==============================] - 2s 2ms/step - loss: 0.0060 - accuracy: 0.9984 - val_loss: 0.0256 - val_accuracy: 0.9903\n",
            "Epoch 19/20\n",
            "663/663 [==============================] - 2s 2ms/step - loss: 0.0053 - accuracy: 0.9987 - val_loss: 0.0268 - val_accuracy: 0.9911\n",
            "Epoch 20/20\n",
            "663/663 [==============================] - 1s 2ms/step - loss: 0.0053 - accuracy: 0.9987 - val_loss: 0.0310 - val_accuracy: 0.9892\n",
            "Epoch 1/20\n",
            "663/663 [==============================] - 2s 3ms/step - loss: 1.1113 - accuracy: 0.6472 - val_loss: 0.8511 - val_accuracy: 0.6752\n",
            "Epoch 2/20\n",
            "663/663 [==============================] - 2s 3ms/step - loss: 0.5499 - accuracy: 0.8472 - val_loss: 0.5721 - val_accuracy: 0.8123\n",
            "Epoch 3/20\n",
            "663/663 [==============================] - 2s 3ms/step - loss: 0.3843 - accuracy: 0.9080 - val_loss: 0.4440 - val_accuracy: 0.8657\n",
            "Epoch 4/20\n",
            "663/663 [==============================] - 2s 2ms/step - loss: 0.2985 - accuracy: 0.9323 - val_loss: 0.3498 - val_accuracy: 0.9038\n",
            "Epoch 5/20\n",
            "663/663 [==============================] - 2s 2ms/step - loss: 0.2431 - accuracy: 0.9457 - val_loss: 0.2936 - val_accuracy: 0.9178\n",
            "Epoch 6/20\n",
            "663/663 [==============================] - 2s 2ms/step - loss: 0.2031 - accuracy: 0.9538 - val_loss: 0.2447 - val_accuracy: 0.9340\n",
            "Epoch 7/20\n",
            "663/663 [==============================] - 1s 2ms/step - loss: 0.1724 - accuracy: 0.9606 - val_loss: 0.2084 - val_accuracy: 0.9439\n",
            "Epoch 8/20\n",
            "663/663 [==============================] - 2s 2ms/step - loss: 0.1483 - accuracy: 0.9657 - val_loss: 0.1872 - val_accuracy: 0.9450\n",
            "Epoch 9/20\n",
            "663/663 [==============================] - 1s 2ms/step - loss: 0.1288 - accuracy: 0.9695 - val_loss: 0.1523 - val_accuracy: 0.9610\n",
            "Epoch 10/20\n",
            "663/663 [==============================] - 1s 2ms/step - loss: 0.1130 - accuracy: 0.9738 - val_loss: 0.1359 - val_accuracy: 0.9636\n",
            "Epoch 11/20\n",
            "663/663 [==============================] - 2s 2ms/step - loss: 0.1003 - accuracy: 0.9767 - val_loss: 0.1196 - val_accuracy: 0.9709\n",
            "Epoch 12/20\n",
            "663/663 [==============================] - 1s 2ms/step - loss: 0.0897 - accuracy: 0.9795 - val_loss: 0.1143 - val_accuracy: 0.9680\n",
            "Epoch 13/20\n",
            "663/663 [==============================] - 1s 2ms/step - loss: 0.0808 - accuracy: 0.9818 - val_loss: 0.0969 - val_accuracy: 0.9783\n",
            "Epoch 14/20\n",
            "663/663 [==============================] - 2s 2ms/step - loss: 0.0735 - accuracy: 0.9835 - val_loss: 0.0881 - val_accuracy: 0.9780\n",
            "Epoch 15/20\n",
            "663/663 [==============================] - 1s 2ms/step - loss: 0.0672 - accuracy: 0.9847 - val_loss: 0.0844 - val_accuracy: 0.9783\n",
            "Epoch 16/20\n",
            "663/663 [==============================] - 2s 2ms/step - loss: 0.0620 - accuracy: 0.9858 - val_loss: 0.0757 - val_accuracy: 0.9831\n",
            "Epoch 17/20\n",
            "663/663 [==============================] - 2s 2ms/step - loss: 0.0574 - accuracy: 0.9867 - val_loss: 0.0706 - val_accuracy: 0.9842\n",
            "Epoch 18/20\n",
            "663/663 [==============================] - 2s 2ms/step - loss: 0.0534 - accuracy: 0.9877 - val_loss: 0.0673 - val_accuracy: 0.9843\n",
            "Epoch 19/20\n",
            "663/663 [==============================] - 2s 2ms/step - loss: 0.0501 - accuracy: 0.9884 - val_loss: 0.0626 - val_accuracy: 0.9854\n",
            "Epoch 20/20\n",
            "663/663 [==============================] - 2s 2ms/step - loss: 0.0471 - accuracy: 0.9888 - val_loss: 0.0578 - val_accuracy: 0.9873\n"
          ],
          "name": "stdout"
        }
      ]
    },
    {
      "cell_type": "markdown",
      "metadata": {
        "id": "UedBGATV399E"
      },
      "source": [
        "Plot the loss funciton vs. the epoch number for all three learning rates on one graph.  You should see that the lower learning rates are more stable, but converge slower."
      ]
    },
    {
      "cell_type": "code",
      "metadata": {
        "id": "DZGcjMtJ399E",
        "outputId": "0d4e4c36-972b-4084-e549-b5b2cec3b1ab",
        "colab": {
          "base_uri": "https://localhost:8080/",
          "height": 296
        }
      },
      "source": [
        "# TODO\n",
        "for i, loss in enumerate(loss_hist):\n",
        "  plt.plot(loss)\n",
        "  \n",
        "plt.grid()\n",
        "plt.xlabel('epochs')\n",
        "plt.ylabel('loss')\n",
        "plt.legend(rates)"
      ],
      "execution_count": 81,
      "outputs": [
        {
          "output_type": "execute_result",
          "data": {
            "text/plain": [
              "<matplotlib.legend.Legend at 0x7f7ed2543780>"
            ]
          },
          "metadata": {
            "tags": []
          },
          "execution_count": 81
        },
        {
          "output_type": "display_data",
          "data": {
            "image/png": "[encoded data removed]",
            "text/plain": [
              "<Figure size 432x288 with 1 Axes>"
            ]
          },
          "metadata": {
            "tags": [],
            "needs_background": "light"
          }
        }
      ]
    },
    {
      "cell_type": "code",
      "metadata": {
        "id": "t9rx-1iA399G"
      },
      "source": [
        ""
      ],
      "execution_count": null,
      "outputs": []
    },
    {
      "cell_type": "code",
      "metadata": {
        "id": "j4snOS1U399I"
      },
      "source": [
        ""
      ],
      "execution_count": null,
      "outputs": []
    }
  ]
}