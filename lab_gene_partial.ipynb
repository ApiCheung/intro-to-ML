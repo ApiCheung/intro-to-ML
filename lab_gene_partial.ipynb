{
 "cells": [
  {
   "cell_type": "markdown",
   "metadata": {
    "id": "TrZt0t70rjYZ"
   },
   "source": [
    "# Lab:  Logistic Regression for Gene Expression Data\n",
    "\n",
    "In this lab, we use logistic regression to predict biological characteristics (\"phenotypes\") from gene expression data.  In addition to the concepts in [breast cancer demo](./breast_cancer.ipynb), you will learn to:\n",
    "* Handle missing data\n",
    "* Perform multi-class logistic classification\n",
    "* Create a confusion matrix\n",
    "* Use L1-regularization for improved estimation in the case of sparse weights (Grad students only)\n",
    "\n",
    "## Background\n",
    "\n",
    "Genes are the basic unit in the DNA and encode blueprints for proteins.  When proteins are synthesized from a gene, the gene is said to \"express\".  Micro-arrays are devices that measure the expression levels of large numbers of genes in parallel.  By finding correlations between expression levels and phenotypes, scientists can identify possible genetic markers for biological characteristics.\n",
    "\n",
    "The data in this lab comes from:\n",
    "\n",
    "https://archive.ics.uci.edu/ml/datasets/Mice+Protein+Expression\n",
    "\n",
    "In this data, mice were characterized by three properties:\n",
    "* Whether they had down's syndrome (trisomy) or not\n",
    "* Whether they were stimulated to learn or not\n",
    "* Whether they had a drug memantine or a saline control solution.\n",
    "\n",
    "With these three choices, there are 8 possible classes for each mouse.  For each mouse, the expression levels were measured across 77 genes.  We will see if the characteristics can be predicted from the gene expression levels.  This classification could reveal which genes are potentially involved in Down's syndrome and if drugs and learning have any noticeable effects.\n"
   ]
  },
  {
   "cell_type": "markdown",
   "metadata": {
    "id": "PxxbUuTZrjYb"
   },
   "source": [
    "## Load the Data\n",
    "\n",
    "We begin by loading the standard modules."
   ]
  },
  {
   "cell_type": "code",
   "execution_count": 1,
   "metadata": {
    "id": "fDVOQHsLrjYc"
   },
   "outputs": [],
   "source": [
    "import pandas as pd\n",
    "import numpy as np\n",
    "import matplotlib\n",
    "import matplotlib.pyplot as plt\n",
    "%matplotlib inline\n",
    "from sklearn import linear_model, preprocessing"
   ]
  },
  {
   "cell_type": "markdown",
   "metadata": {
    "id": "gvwSVnRtrjYf"
   },
   "source": [
    "Use the `pd.read_excel` command to read the data from \n",
    "\n",
    "https://archive.ics.uci.edu/ml/machine-learning-databases/00342/Data_Cortex_Nuclear.xls\n",
    "\n",
    "into a dataframe `df`.  Use the `index_col` option to specify that column 0 is the index.  Use the `df.head()` to print the first few rows."
   ]
  },
  {
   "cell_type": "code",
   "execution_count": 38,
   "metadata": {
    "colab": {
     "base_uri": "https://localhost:8080/",
     "height": 369
    },
    "id": "po6WXKmLrjYg",
    "outputId": "123e0bac-94a5-4cac-c52e-26e2e711ddaa"
   },
   "outputs": [
    {
     "data": {
      "text/html": [
       "<div>\n",
       "<style scoped>\n",
       "    .dataframe tbody tr th:only-of-type {\n",
       "        vertical-align: middle;\n",
       "    }\n",
       "\n",
       "    .dataframe tbody tr th {\n",
       "        vertical-align: top;\n",
       "    }\n",
       "\n",
       "    .dataframe thead th {\n",
       "        text-align: right;\n",
       "    }\n",
       "</style>\n",
       "<table border=\"1\" class=\"dataframe\">\n",
       "  <thead>\n",
       "    <tr style=\"text-align: right;\">\n",
       "      <th></th>\n",
       "      <th>DYRK1A_N</th>\n",
       "      <th>ITSN1_N</th>\n",
       "      <th>BDNF_N</th>\n",
       "      <th>NR1_N</th>\n",
       "      <th>NR2A_N</th>\n",
       "      <th>pAKT_N</th>\n",
       "      <th>pBRAF_N</th>\n",
       "      <th>pCAMKII_N</th>\n",
       "      <th>pCREB_N</th>\n",
       "      <th>pELK_N</th>\n",
       "      <th>pERK_N</th>\n",
       "      <th>pJNK_N</th>\n",
       "      <th>PKCA_N</th>\n",
       "      <th>pMEK_N</th>\n",
       "      <th>pNR1_N</th>\n",
       "      <th>pNR2A_N</th>\n",
       "      <th>pNR2B_N</th>\n",
       "      <th>pPKCAB_N</th>\n",
       "      <th>pRSK_N</th>\n",
       "      <th>AKT_N</th>\n",
       "      <th>BRAF_N</th>\n",
       "      <th>CAMKII_N</th>\n",
       "      <th>CREB_N</th>\n",
       "      <th>ELK_N</th>\n",
       "      <th>ERK_N</th>\n",
       "      <th>GSK3B_N</th>\n",
       "      <th>JNK_N</th>\n",
       "      <th>MEK_N</th>\n",
       "      <th>TRKA_N</th>\n",
       "      <th>RSK_N</th>\n",
       "      <th>APP_N</th>\n",
       "      <th>Bcatenin_N</th>\n",
       "      <th>SOD1_N</th>\n",
       "      <th>MTOR_N</th>\n",
       "      <th>P38_N</th>\n",
       "      <th>pMTOR_N</th>\n",
       "      <th>DSCR1_N</th>\n",
       "      <th>AMPKA_N</th>\n",
       "      <th>NR2B_N</th>\n",
       "      <th>pNUMB_N</th>\n",
       "      <th>...</th>\n",
       "      <th>TIAM1_N</th>\n",
       "      <th>pP70S6_N</th>\n",
       "      <th>NUMB_N</th>\n",
       "      <th>P70S6_N</th>\n",
       "      <th>pGSK3B_N</th>\n",
       "      <th>pPKCG_N</th>\n",
       "      <th>CDK5_N</th>\n",
       "      <th>S6_N</th>\n",
       "      <th>ADARB1_N</th>\n",
       "      <th>AcetylH3K9_N</th>\n",
       "      <th>RRP1_N</th>\n",
       "      <th>BAX_N</th>\n",
       "      <th>ARC_N</th>\n",
       "      <th>ERBB4_N</th>\n",
       "      <th>nNOS_N</th>\n",
       "      <th>Tau_N</th>\n",
       "      <th>GFAP_N</th>\n",
       "      <th>GluR3_N</th>\n",
       "      <th>GluR4_N</th>\n",
       "      <th>IL1B_N</th>\n",
       "      <th>P3525_N</th>\n",
       "      <th>pCASP9_N</th>\n",
       "      <th>PSD95_N</th>\n",
       "      <th>SNCA_N</th>\n",
       "      <th>Ubiquitin_N</th>\n",
       "      <th>pGSK3B_Tyr216_N</th>\n",
       "      <th>SHH_N</th>\n",
       "      <th>BAD_N</th>\n",
       "      <th>BCL2_N</th>\n",
       "      <th>pS6_N</th>\n",
       "      <th>pCFOS_N</th>\n",
       "      <th>SYP_N</th>\n",
       "      <th>H3AcK18_N</th>\n",
       "      <th>EGR1_N</th>\n",
       "      <th>H3MeK4_N</th>\n",
       "      <th>CaNA_N</th>\n",
       "      <th>Genotype</th>\n",
       "      <th>Treatment</th>\n",
       "      <th>Behavior</th>\n",
       "      <th>class</th>\n",
       "    </tr>\n",
       "    <tr>\n",
       "      <th>MouseID</th>\n",
       "      <th></th>\n",
       "      <th></th>\n",
       "      <th></th>\n",
       "      <th></th>\n",
       "      <th></th>\n",
       "      <th></th>\n",
       "      <th></th>\n",
       "      <th></th>\n",
       "      <th></th>\n",
       "      <th></th>\n",
       "      <th></th>\n",
       "      <th></th>\n",
       "      <th></th>\n",
       "      <th></th>\n",
       "      <th></th>\n",
       "      <th></th>\n",
       "      <th></th>\n",
       "      <th></th>\n",
       "      <th></th>\n",
       "      <th></th>\n",
       "      <th></th>\n",
       "      <th></th>\n",
       "      <th></th>\n",
       "      <th></th>\n",
       "      <th></th>\n",
       "      <th></th>\n",
       "      <th></th>\n",
       "      <th></th>\n",
       "      <th></th>\n",
       "      <th></th>\n",
       "      <th></th>\n",
       "      <th></th>\n",
       "      <th></th>\n",
       "      <th></th>\n",
       "      <th></th>\n",
       "      <th></th>\n",
       "      <th></th>\n",
       "      <th></th>\n",
       "      <th></th>\n",
       "      <th></th>\n",
       "      <th></th>\n",
       "      <th></th>\n",
       "      <th></th>\n",
       "      <th></th>\n",
       "      <th></th>\n",
       "      <th></th>\n",
       "      <th></th>\n",
       "      <th></th>\n",
       "      <th></th>\n",
       "      <th></th>\n",
       "      <th></th>\n",
       "      <th></th>\n",
       "      <th></th>\n",
       "      <th></th>\n",
       "      <th></th>\n",
       "      <th></th>\n",
       "      <th></th>\n",
       "      <th></th>\n",
       "      <th></th>\n",
       "      <th></th>\n",
       "      <th></th>\n",
       "      <th></th>\n",
       "      <th></th>\n",
       "      <th></th>\n",
       "      <th></th>\n",
       "      <th></th>\n",
       "      <th></th>\n",
       "      <th></th>\n",
       "      <th></th>\n",
       "      <th></th>\n",
       "      <th></th>\n",
       "      <th></th>\n",
       "      <th></th>\n",
       "      <th></th>\n",
       "      <th></th>\n",
       "      <th></th>\n",
       "      <th></th>\n",
       "      <th></th>\n",
       "      <th></th>\n",
       "      <th></th>\n",
       "      <th></th>\n",
       "    </tr>\n",
       "  </thead>\n",
       "  <tbody>\n",
       "    <tr>\n",
       "      <th>309_1</th>\n",
       "      <td>0.503644</td>\n",
       "      <td>0.747193</td>\n",
       "      <td>0.430175</td>\n",
       "      <td>2.816329</td>\n",
       "      <td>5.990152</td>\n",
       "      <td>0.218830</td>\n",
       "      <td>0.177565</td>\n",
       "      <td>2.373744</td>\n",
       "      <td>0.232224</td>\n",
       "      <td>1.750936</td>\n",
       "      <td>0.687906</td>\n",
       "      <td>0.306382</td>\n",
       "      <td>0.402698</td>\n",
       "      <td>0.296927</td>\n",
       "      <td>1.022060</td>\n",
       "      <td>0.605673</td>\n",
       "      <td>1.877684</td>\n",
       "      <td>2.308745</td>\n",
       "      <td>0.441599</td>\n",
       "      <td>0.859366</td>\n",
       "      <td>0.416289</td>\n",
       "      <td>0.369608</td>\n",
       "      <td>0.178944</td>\n",
       "      <td>1.866358</td>\n",
       "      <td>3.685247</td>\n",
       "      <td>1.537227</td>\n",
       "      <td>0.264526</td>\n",
       "      <td>0.319677</td>\n",
       "      <td>0.813866</td>\n",
       "      <td>0.165846</td>\n",
       "      <td>0.453910</td>\n",
       "      <td>3.037621</td>\n",
       "      <td>0.369510</td>\n",
       "      <td>0.458539</td>\n",
       "      <td>0.335336</td>\n",
       "      <td>0.825192</td>\n",
       "      <td>0.576916</td>\n",
       "      <td>0.448099</td>\n",
       "      <td>0.586271</td>\n",
       "      <td>0.394721</td>\n",
       "      <td>...</td>\n",
       "      <td>0.482864</td>\n",
       "      <td>0.294170</td>\n",
       "      <td>0.182150</td>\n",
       "      <td>0.842725</td>\n",
       "      <td>0.192608</td>\n",
       "      <td>1.443091</td>\n",
       "      <td>0.294700</td>\n",
       "      <td>0.354605</td>\n",
       "      <td>1.339070</td>\n",
       "      <td>0.170119</td>\n",
       "      <td>0.159102</td>\n",
       "      <td>0.188852</td>\n",
       "      <td>0.106305</td>\n",
       "      <td>0.144989</td>\n",
       "      <td>0.176668</td>\n",
       "      <td>0.125190</td>\n",
       "      <td>0.115291</td>\n",
       "      <td>0.228043</td>\n",
       "      <td>0.142756</td>\n",
       "      <td>0.430957</td>\n",
       "      <td>0.247538</td>\n",
       "      <td>1.603310</td>\n",
       "      <td>2.014875</td>\n",
       "      <td>0.108234</td>\n",
       "      <td>1.044979</td>\n",
       "      <td>0.831557</td>\n",
       "      <td>0.188852</td>\n",
       "      <td>0.122652</td>\n",
       "      <td>NaN</td>\n",
       "      <td>0.106305</td>\n",
       "      <td>0.108336</td>\n",
       "      <td>0.427099</td>\n",
       "      <td>0.114783</td>\n",
       "      <td>0.131790</td>\n",
       "      <td>0.128186</td>\n",
       "      <td>1.675652</td>\n",
       "      <td>Control</td>\n",
       "      <td>Memantine</td>\n",
       "      <td>C/S</td>\n",
       "      <td>c-CS-m</td>\n",
       "    </tr>\n",
       "    <tr>\n",
       "      <th>309_2</th>\n",
       "      <td>0.514617</td>\n",
       "      <td>0.689064</td>\n",
       "      <td>0.411770</td>\n",
       "      <td>2.789514</td>\n",
       "      <td>5.685038</td>\n",
       "      <td>0.211636</td>\n",
       "      <td>0.172817</td>\n",
       "      <td>2.292150</td>\n",
       "      <td>0.226972</td>\n",
       "      <td>1.596377</td>\n",
       "      <td>0.695006</td>\n",
       "      <td>0.299051</td>\n",
       "      <td>0.385987</td>\n",
       "      <td>0.281319</td>\n",
       "      <td>0.956676</td>\n",
       "      <td>0.587559</td>\n",
       "      <td>1.725774</td>\n",
       "      <td>2.043037</td>\n",
       "      <td>0.445222</td>\n",
       "      <td>0.834659</td>\n",
       "      <td>0.400364</td>\n",
       "      <td>0.356178</td>\n",
       "      <td>0.173680</td>\n",
       "      <td>1.761047</td>\n",
       "      <td>3.485287</td>\n",
       "      <td>1.509249</td>\n",
       "      <td>0.255727</td>\n",
       "      <td>0.304419</td>\n",
       "      <td>0.780504</td>\n",
       "      <td>0.157194</td>\n",
       "      <td>0.430940</td>\n",
       "      <td>2.921882</td>\n",
       "      <td>0.342279</td>\n",
       "      <td>0.423560</td>\n",
       "      <td>0.324835</td>\n",
       "      <td>0.761718</td>\n",
       "      <td>0.545097</td>\n",
       "      <td>0.420876</td>\n",
       "      <td>0.545097</td>\n",
       "      <td>0.368255</td>\n",
       "      <td>...</td>\n",
       "      <td>0.454519</td>\n",
       "      <td>0.276431</td>\n",
       "      <td>0.182086</td>\n",
       "      <td>0.847615</td>\n",
       "      <td>0.194815</td>\n",
       "      <td>1.439460</td>\n",
       "      <td>0.294060</td>\n",
       "      <td>0.354548</td>\n",
       "      <td>1.306323</td>\n",
       "      <td>0.171427</td>\n",
       "      <td>0.158129</td>\n",
       "      <td>0.184570</td>\n",
       "      <td>0.106592</td>\n",
       "      <td>0.150471</td>\n",
       "      <td>0.178309</td>\n",
       "      <td>0.134275</td>\n",
       "      <td>0.118235</td>\n",
       "      <td>0.238073</td>\n",
       "      <td>0.142037</td>\n",
       "      <td>0.457156</td>\n",
       "      <td>0.257632</td>\n",
       "      <td>1.671738</td>\n",
       "      <td>2.004605</td>\n",
       "      <td>0.109749</td>\n",
       "      <td>1.009883</td>\n",
       "      <td>0.849270</td>\n",
       "      <td>0.200404</td>\n",
       "      <td>0.116682</td>\n",
       "      <td>NaN</td>\n",
       "      <td>0.106592</td>\n",
       "      <td>0.104315</td>\n",
       "      <td>0.441581</td>\n",
       "      <td>0.111974</td>\n",
       "      <td>0.135103</td>\n",
       "      <td>0.131119</td>\n",
       "      <td>1.743610</td>\n",
       "      <td>Control</td>\n",
       "      <td>Memantine</td>\n",
       "      <td>C/S</td>\n",
       "      <td>c-CS-m</td>\n",
       "    </tr>\n",
       "    <tr>\n",
       "      <th>309_3</th>\n",
       "      <td>0.509183</td>\n",
       "      <td>0.730247</td>\n",
       "      <td>0.418309</td>\n",
       "      <td>2.687201</td>\n",
       "      <td>5.622059</td>\n",
       "      <td>0.209011</td>\n",
       "      <td>0.175722</td>\n",
       "      <td>2.283337</td>\n",
       "      <td>0.230247</td>\n",
       "      <td>1.561316</td>\n",
       "      <td>0.677348</td>\n",
       "      <td>0.291276</td>\n",
       "      <td>0.381002</td>\n",
       "      <td>0.281710</td>\n",
       "      <td>1.003635</td>\n",
       "      <td>0.602449</td>\n",
       "      <td>1.731873</td>\n",
       "      <td>2.017984</td>\n",
       "      <td>0.467668</td>\n",
       "      <td>0.814329</td>\n",
       "      <td>0.399847</td>\n",
       "      <td>0.368089</td>\n",
       "      <td>0.173905</td>\n",
       "      <td>1.765544</td>\n",
       "      <td>3.571456</td>\n",
       "      <td>1.501244</td>\n",
       "      <td>0.259614</td>\n",
       "      <td>0.311747</td>\n",
       "      <td>0.785154</td>\n",
       "      <td>0.160895</td>\n",
       "      <td>0.423187</td>\n",
       "      <td>2.944136</td>\n",
       "      <td>0.343696</td>\n",
       "      <td>0.425005</td>\n",
       "      <td>0.324852</td>\n",
       "      <td>0.757031</td>\n",
       "      <td>0.543620</td>\n",
       "      <td>0.404630</td>\n",
       "      <td>0.552994</td>\n",
       "      <td>0.363880</td>\n",
       "      <td>...</td>\n",
       "      <td>0.447197</td>\n",
       "      <td>0.256648</td>\n",
       "      <td>0.184388</td>\n",
       "      <td>0.856166</td>\n",
       "      <td>0.200737</td>\n",
       "      <td>1.524364</td>\n",
       "      <td>0.301881</td>\n",
       "      <td>0.386087</td>\n",
       "      <td>1.279600</td>\n",
       "      <td>0.185456</td>\n",
       "      <td>0.148696</td>\n",
       "      <td>0.190532</td>\n",
       "      <td>0.108303</td>\n",
       "      <td>0.145330</td>\n",
       "      <td>0.176213</td>\n",
       "      <td>0.132560</td>\n",
       "      <td>0.117760</td>\n",
       "      <td>0.244817</td>\n",
       "      <td>0.142445</td>\n",
       "      <td>0.510472</td>\n",
       "      <td>0.255343</td>\n",
       "      <td>1.663550</td>\n",
       "      <td>2.016831</td>\n",
       "      <td>0.108196</td>\n",
       "      <td>0.996848</td>\n",
       "      <td>0.846709</td>\n",
       "      <td>0.193685</td>\n",
       "      <td>0.118508</td>\n",
       "      <td>NaN</td>\n",
       "      <td>0.108303</td>\n",
       "      <td>0.106219</td>\n",
       "      <td>0.435777</td>\n",
       "      <td>0.111883</td>\n",
       "      <td>0.133362</td>\n",
       "      <td>0.127431</td>\n",
       "      <td>1.926427</td>\n",
       "      <td>Control</td>\n",
       "      <td>Memantine</td>\n",
       "      <td>C/S</td>\n",
       "      <td>c-CS-m</td>\n",
       "    </tr>\n",
       "    <tr>\n",
       "      <th>309_4</th>\n",
       "      <td>0.442107</td>\n",
       "      <td>0.617076</td>\n",
       "      <td>0.358626</td>\n",
       "      <td>2.466947</td>\n",
       "      <td>4.979503</td>\n",
       "      <td>0.222886</td>\n",
       "      <td>0.176463</td>\n",
       "      <td>2.152301</td>\n",
       "      <td>0.207004</td>\n",
       "      <td>1.595086</td>\n",
       "      <td>0.583277</td>\n",
       "      <td>0.296729</td>\n",
       "      <td>0.377087</td>\n",
       "      <td>0.313832</td>\n",
       "      <td>0.875390</td>\n",
       "      <td>0.520293</td>\n",
       "      <td>1.566852</td>\n",
       "      <td>2.132754</td>\n",
       "      <td>0.477671</td>\n",
       "      <td>0.727705</td>\n",
       "      <td>0.385639</td>\n",
       "      <td>0.362970</td>\n",
       "      <td>0.179449</td>\n",
       "      <td>1.286277</td>\n",
       "      <td>2.970137</td>\n",
       "      <td>1.419710</td>\n",
       "      <td>0.259536</td>\n",
       "      <td>0.279218</td>\n",
       "      <td>0.734492</td>\n",
       "      <td>0.162210</td>\n",
       "      <td>0.410615</td>\n",
       "      <td>2.500204</td>\n",
       "      <td>0.344509</td>\n",
       "      <td>0.429211</td>\n",
       "      <td>0.330121</td>\n",
       "      <td>0.746980</td>\n",
       "      <td>0.546763</td>\n",
       "      <td>0.386860</td>\n",
       "      <td>0.547849</td>\n",
       "      <td>0.366771</td>\n",
       "      <td>...</td>\n",
       "      <td>0.442650</td>\n",
       "      <td>0.398534</td>\n",
       "      <td>0.161768</td>\n",
       "      <td>0.760234</td>\n",
       "      <td>0.184169</td>\n",
       "      <td>1.612382</td>\n",
       "      <td>0.296382</td>\n",
       "      <td>0.290680</td>\n",
       "      <td>1.198765</td>\n",
       "      <td>0.159799</td>\n",
       "      <td>0.166112</td>\n",
       "      <td>0.185323</td>\n",
       "      <td>0.103184</td>\n",
       "      <td>0.140656</td>\n",
       "      <td>0.163804</td>\n",
       "      <td>0.123210</td>\n",
       "      <td>0.117439</td>\n",
       "      <td>0.234947</td>\n",
       "      <td>0.145068</td>\n",
       "      <td>0.430996</td>\n",
       "      <td>0.251103</td>\n",
       "      <td>1.484624</td>\n",
       "      <td>1.957233</td>\n",
       "      <td>0.119883</td>\n",
       "      <td>0.990225</td>\n",
       "      <td>0.833277</td>\n",
       "      <td>0.192112</td>\n",
       "      <td>0.132781</td>\n",
       "      <td>NaN</td>\n",
       "      <td>0.103184</td>\n",
       "      <td>0.111262</td>\n",
       "      <td>0.391691</td>\n",
       "      <td>0.130405</td>\n",
       "      <td>0.147444</td>\n",
       "      <td>0.146901</td>\n",
       "      <td>1.700563</td>\n",
       "      <td>Control</td>\n",
       "      <td>Memantine</td>\n",
       "      <td>C/S</td>\n",
       "      <td>c-CS-m</td>\n",
       "    </tr>\n",
       "    <tr>\n",
       "      <th>309_5</th>\n",
       "      <td>0.434940</td>\n",
       "      <td>0.617430</td>\n",
       "      <td>0.358802</td>\n",
       "      <td>2.365785</td>\n",
       "      <td>4.718679</td>\n",
       "      <td>0.213106</td>\n",
       "      <td>0.173627</td>\n",
       "      <td>2.134014</td>\n",
       "      <td>0.192158</td>\n",
       "      <td>1.504230</td>\n",
       "      <td>0.550960</td>\n",
       "      <td>0.286961</td>\n",
       "      <td>0.363502</td>\n",
       "      <td>0.277964</td>\n",
       "      <td>0.864912</td>\n",
       "      <td>0.507990</td>\n",
       "      <td>1.480059</td>\n",
       "      <td>2.013697</td>\n",
       "      <td>0.483416</td>\n",
       "      <td>0.687794</td>\n",
       "      <td>0.367531</td>\n",
       "      <td>0.355311</td>\n",
       "      <td>0.174836</td>\n",
       "      <td>1.324695</td>\n",
       "      <td>2.896334</td>\n",
       "      <td>1.359876</td>\n",
       "      <td>0.250705</td>\n",
       "      <td>0.273667</td>\n",
       "      <td>0.702699</td>\n",
       "      <td>0.154827</td>\n",
       "      <td>0.398550</td>\n",
       "      <td>2.456560</td>\n",
       "      <td>0.329126</td>\n",
       "      <td>0.408755</td>\n",
       "      <td>0.313415</td>\n",
       "      <td>0.691956</td>\n",
       "      <td>0.536860</td>\n",
       "      <td>0.360816</td>\n",
       "      <td>0.512824</td>\n",
       "      <td>0.351551</td>\n",
       "      <td>...</td>\n",
       "      <td>0.419095</td>\n",
       "      <td>0.393447</td>\n",
       "      <td>0.160200</td>\n",
       "      <td>0.768113</td>\n",
       "      <td>0.185718</td>\n",
       "      <td>1.645807</td>\n",
       "      <td>0.296829</td>\n",
       "      <td>0.309345</td>\n",
       "      <td>1.206995</td>\n",
       "      <td>0.164650</td>\n",
       "      <td>0.160687</td>\n",
       "      <td>0.188221</td>\n",
       "      <td>0.104784</td>\n",
       "      <td>0.141983</td>\n",
       "      <td>0.167710</td>\n",
       "      <td>0.136838</td>\n",
       "      <td>0.116048</td>\n",
       "      <td>0.255528</td>\n",
       "      <td>0.140871</td>\n",
       "      <td>0.481227</td>\n",
       "      <td>0.251773</td>\n",
       "      <td>1.534835</td>\n",
       "      <td>2.009109</td>\n",
       "      <td>0.119524</td>\n",
       "      <td>0.997775</td>\n",
       "      <td>0.878668</td>\n",
       "      <td>0.205604</td>\n",
       "      <td>0.129954</td>\n",
       "      <td>NaN</td>\n",
       "      <td>0.104784</td>\n",
       "      <td>0.110694</td>\n",
       "      <td>0.434154</td>\n",
       "      <td>0.118481</td>\n",
       "      <td>0.140314</td>\n",
       "      <td>0.148380</td>\n",
       "      <td>1.839730</td>\n",
       "      <td>Control</td>\n",
       "      <td>Memantine</td>\n",
       "      <td>C/S</td>\n",
       "      <td>c-CS-m</td>\n",
       "    </tr>\n",
       "  </tbody>\n",
       "</table>\n",
       "<p>5 rows × 81 columns</p>\n",
       "</div>"
      ],
      "text/plain": [
       "         DYRK1A_N   ITSN1_N    BDNF_N  ...  Treatment  Behavior   class\n",
       "MouseID                                ...                             \n",
       "309_1    0.503644  0.747193  0.430175  ...  Memantine       C/S  c-CS-m\n",
       "309_2    0.514617  0.689064  0.411770  ...  Memantine       C/S  c-CS-m\n",
       "309_3    0.509183  0.730247  0.418309  ...  Memantine       C/S  c-CS-m\n",
       "309_4    0.442107  0.617076  0.358626  ...  Memantine       C/S  c-CS-m\n",
       "309_5    0.434940  0.617430  0.358802  ...  Memantine       C/S  c-CS-m\n",
       "\n",
       "[5 rows x 81 columns]"
      ]
     },
     "execution_count": 38,
     "metadata": {
      "tags": []
     },
     "output_type": "execute_result"
    }
   ],
   "source": [
    "# TODO\n",
    "# use para index_col = 0 so dtype = obejct won't in numpy array (last column)\n",
    "df = pd.read_excel(\"https://archive.ics.uci.edu/ml/machine-learning-databases/00342/Data_Cortex_Nuclear.xls\", index_col=0)\n",
    "df.head()\n"
   ]
  },
  {
   "cell_type": "markdown",
   "metadata": {
    "id": "ccquiZFVrjYi"
   },
   "source": [
    "This data has missing values.  The site:\n",
    "\n",
    "http://pandas.pydata.org/pandas-docs/stable/missing_data.html\n",
    "\n",
    "has an excellent summary of methods to deal with missing values.  Following the techniques there, create a new data frame `df1` where the missing values in each column are filled with the mean values from the non-missing values."
   ]
  },
  {
   "cell_type": "code",
   "execution_count": 39,
   "metadata": {
    "colab": {
     "base_uri": "https://localhost:8080/",
     "height": 34
    },
    "id": "tVtN34LdrjYi",
    "outputId": "a4f820a0-6600-437f-df69-53f23aae0f55"
   },
   "outputs": [
    {
     "data": {
      "text/plain": [
       "(1080, 81)"
      ]
     },
     "execution_count": 39,
     "metadata": {
      "tags": []
     },
     "output_type": "execute_result"
    }
   ],
   "source": [
    "# TODO\n",
    "df1 = df.fillna(df.mean())\n",
    "df1.shape"
   ]
  },
  {
   "cell_type": "markdown",
   "metadata": {
    "id": "SHWGKw_srjYl"
   },
   "source": [
    "## Binary Classification for Down's Syndrome\n",
    "\n",
    "We will first predict the binary class label in `df1['Genotype']` which indicates if the mouse has Down's syndrome or not.  Get the string values in `df1['Genotype'].values` and convert this to a numeric vector `y` with 0 or 1.  You may wish to use the `np.unique` command with the `return_inverse=True` option."
   ]
  },
  {
   "cell_type": "code",
   "execution_count": 42,
   "metadata": {
    "colab": {
     "base_uri": "https://localhost:8080/",
     "height": 34
    },
    "id": "9-mkdD-vrjYl",
    "outputId": "0f95b412-f2b6-4c3a-b8cc-11830b50bead"
   },
   "outputs": [
    {
     "data": {
      "text/plain": [
       "array([0, 0, 0, ..., 1, 1, 1])"
      ]
     },
     "execution_count": 42,
     "metadata": {
      "tags": []
     },
     "output_type": "execute_result"
    }
   ],
   "source": [
    "# TODO\n",
    "y = np.unique(df1['Genotype'].values, return_inverse=True)\n",
    "y = y[1]\n",
    "y"
   ]
  },
  {
   "cell_type": "markdown",
   "metadata": {
    "id": "ZcSyU144rjYn"
   },
   "source": [
    "As predictors, get all but the last four columns of the dataframes.  Store the data matrix into `X` and the names of the columns in `xnames`."
   ]
  },
  {
   "cell_type": "code",
   "execution_count": 43,
   "metadata": {
    "colab": {
     "base_uri": "https://localhost:8080/",
     "height": 238
    },
    "id": "Yuc7Xn4FrjYo",
    "outputId": "3ad30f45-7941-44a3-99b6-8e2b8bdae2e2"
   },
   "outputs": [
    {
     "data": {
      "text/plain": [
       "array([[0.50364388, 0.74719322, 0.4301753 , ..., 0.13179003, 0.1281856 ,\n",
       "        1.67565235],\n",
       "       [0.51461708, 0.68906355, 0.41177034, ..., 0.13510297, 0.1311187 ,\n",
       "        1.74360965],\n",
       "       [0.50918309, 0.7302468 , 0.41830878, ..., 0.13336183, 0.12743108,\n",
       "        1.92642659],\n",
       "       ...,\n",
       "       [0.22869955, 0.39517937, 0.23411809, ..., 0.22919311, 0.35521305,\n",
       "        1.43082502],\n",
       "       [0.22124241, 0.41289438, 0.24397413, ..., 0.25131651, 0.36535319,\n",
       "        1.40403123],\n",
       "       [0.30262572, 0.46105919, 0.25656431, ..., 0.25299481, 0.36527803,\n",
       "        1.37099946]])"
      ]
     },
     "execution_count": 43,
     "metadata": {
      "tags": []
     },
     "output_type": "execute_result"
    }
   ],
   "source": [
    "# TODO\n",
    "xnames = df1.columns[:-4]\n",
    "#xnames\n",
    "X = np.array(df1[xnames].values)\n",
    "X"
   ]
  },
  {
   "cell_type": "markdown",
   "metadata": {
    "id": "7k9g_nKPrjYq"
   },
   "source": [
    "Split the data into training and test with 30% allocated for test.  You can use the train"
   ]
  },
  {
   "cell_type": "code",
   "execution_count": 122,
   "metadata": {
    "id": "-GaQazVnrjYr"
   },
   "outputs": [],
   "source": [
    "from sklearn.model_selection import train_test_split\n",
    "\n",
    "# TODO:\n",
    "Xtr, Xts, ytr, yts = train_test_split(X, y, test_size = 0.3)\n"
   ]
  },
  {
   "cell_type": "markdown",
   "metadata": {
    "id": "CEPaXOjJrjYu"
   },
   "source": [
    "Scale the data with the `StandardScaler`.  Store the scaled values in `Xtr1` and `Xts1`. "
   ]
  },
  {
   "cell_type": "code",
   "execution_count": 123,
   "metadata": {
    "id": "d4EHxrGQrjYv"
   },
   "outputs": [],
   "source": [
    "from sklearn.preprocessing import StandardScaler\n",
    "\n",
    "# TODO\n",
    "scal = StandardScaler()\n",
    "Xtr1 = scal.fit_transform(Xtr)\n",
    "Xts1 = scal.transform(Xts)"
   ]
  },
  {
   "cell_type": "markdown",
   "metadata": {
    "id": "jIXn0kydrjYx"
   },
   "source": [
    "Create a `LogisticRegression` object `logreg` and `fit` on the scaled training data.  Set the regularization level to `C=1e5` and use the optimizer `solver=liblinear`. "
   ]
  },
  {
   "cell_type": "code",
   "execution_count": 80,
   "metadata": {
    "colab": {
     "base_uri": "https://localhost:8080/",
     "height": 102
    },
    "id": "KqbfNWYIrjYx",
    "outputId": "5029da55-1e60-4e89-da0e-769806579439"
   },
   "outputs": [
    {
     "data": {
      "text/plain": [
       "LogisticRegression(C=100000.0, class_weight=None, dual=False,\n",
       "                   fit_intercept=True, intercept_scaling=1, l1_ratio=None,\n",
       "                   max_iter=100, multi_class='auto', n_jobs=None, penalty='l2',\n",
       "                   random_state=None, solver='liblinear', tol=0.0001, verbose=0,\n",
       "                   warm_start=False)"
      ]
     },
     "execution_count": 80,
     "metadata": {
      "tags": []
     },
     "output_type": "execute_result"
    }
   ],
   "source": [
    "# TODO\n",
    "logreg = linear_model.LogisticRegression(C = 1e5, solver = 'liblinear')\n",
    "logreg.fit(Xtr1, ytr)"
   ]
  },
  {
   "cell_type": "markdown",
   "metadata": {
    "id": "v6ifbN_RrjYz"
   },
   "source": [
    "Measure the accuracy of the classifer on test data.  You should get around 94%.  "
   ]
  },
  {
   "cell_type": "code",
   "execution_count": 81,
   "metadata": {
    "colab": {
     "base_uri": "https://localhost:8080/",
     "height": 34
    },
    "id": "cRYAQRD5rjY0",
    "outputId": "0f20cdb8-0f3b-4f2e-d0dc-0d8a1df4aab5"
   },
   "outputs": [
    {
     "name": "stdout",
     "output_type": "stream",
     "text": [
      "Accuracy on test data = 0.962963\n"
     ]
    }
   ],
   "source": [
    "# TODO\n",
    "yhat = logreg.predict(Xts1)\n",
    "acc = np.mean(yhat == yts)\n",
    "print('Accuracy on test data = %f' % acc)"
   ]
  },
  {
   "cell_type": "markdown",
   "metadata": {
    "id": "tLTRSNpzrjY2"
   },
   "source": [
    "## Interpreting the weight vector"
   ]
  },
  {
   "cell_type": "markdown",
   "metadata": {
    "id": "SOyLBFYOrjY2"
   },
   "source": [
    "Create a stem plot of the coefficients, `W` in the logistic regression model.  Jse the `plt.stem()` function with the `use_line_collection=True` option.  You can get the coefficients from `logreg.coef_`, but you will need to reshape this to a 1D array.  "
   ]
  },
  {
   "cell_type": "code",
   "execution_count": 54,
   "metadata": {
    "colab": {
     "base_uri": "https://localhost:8080/",
     "height": 282
    },
    "id": "65K9yKgjrjY3",
    "outputId": "f4870cbd-ef49-4c75-9799-f45a10cd974c"
   },
   "outputs": [
    {
     "data": {
      "text/plain": [
       "<StemContainer object of 3 artists>"
      ]
     },
     "execution_count": 54,
     "metadata": {
      "tags": []
     },
     "output_type": "execute_result"
    },
    {
     "data": {
      "image/png": "[encoded data removed]",
      "text/plain": [
       "<Figure size 432x288 with 1 Axes>"
      ]
     },
     "metadata": {
      "needs_background": "light",
      "tags": []
     },
     "output_type": "display_data"
    }
   ],
   "source": [
    "# TODO\n",
    "W = logreg.coef_\n",
    "#return 1 d\n",
    "W = W.ravel()\n",
    "plt.stem(W, use_line_collection = True)"
   ]
  },
  {
   "cell_type": "markdown",
   "metadata": {
    "id": "0lW0aQForjY5"
   },
   "source": [
    "You should see that `W[i]` is very large for a few components `i`.  These are the genes that are likely to be most involved in Down's Syndrome.   Below we will use L1 regression to enforce sparsity.  Find the names of the genes for two components `i` where the magnitude of `W[i]` is largest.  "
   ]
  },
  {
   "cell_type": "code",
   "execution_count": 56,
   "metadata": {
    "colab": {
     "base_uri": "https://localhost:8080/",
     "height": 34
    },
    "id": "z4CgjWzMrjY6",
    "outputId": "937a7b70-cb4f-4e46-93a3-52d00ef67669"
   },
   "outputs": [
    {
     "name": "stdout",
     "output_type": "stream",
     "text": [
      "PKCA_N CREB_N\n"
     ]
    }
   ],
   "source": [
    "# TODO\n",
    "namei = np.argsort(np.abs(W))\n",
    "#namei\n",
    "name1 = xnames[namei[-1]]\n",
    "name2 = xnames[namei[-2]]\n",
    "print(name1, name2)"
   ]
  },
  {
   "cell_type": "markdown",
   "metadata": {
    "id": "7cUekAEGrjY8"
   },
   "source": [
    "## Cross Validation\n",
    "\n",
    "To obtain a slightly more accurate result, now perform 10-fold cross validation and measure the average precision, recall and f1-score.  Note, that in performing the cross-validation, you will want to randomly permute the test and training sets using the `shuffle` option.  In this data set, all the samples from each class are bunched together, so shuffling is essential.  Print the mean precision, recall and f1-score and error rate across all the folds."
   ]
  },
  {
   "cell_type": "code",
   "execution_count": 66,
   "metadata": {
    "colab": {
     "base_uri": "https://localhost:8080/",
     "height": 85
    },
    "id": "_unDShe0rjY9",
    "outputId": "5876ca5b-29e4-4580-d2f3-c6743d8d9fed"
   },
   "outputs": [
    {
     "name": "stdout",
     "output_type": "stream",
     "text": [
      "Precision = 0.9550\n",
      "Recall =    0.9637\n",
      "f1 =        0.9591\n",
      "Error rate =  0.0380\n"
     ]
    }
   ],
   "source": [
    "from sklearn.model_selection import KFold\n",
    "from sklearn.metrics import precision_recall_fscore_support\n",
    "nfold = 10\n",
    "kf = KFold(n_splits=nfold,shuffle=True)\n",
    "\n",
    "# TODO\n",
    "prec = np.zeros(nfold)\n",
    "rec = np.zeros(nfold)\n",
    "f1 = np.zeros(nfold)\n",
    "err = np.zeros(nfold)\n",
    "\n",
    "for i, I in enumerate(kf.split(X)):\n",
    "  train, test = I\n",
    "  Xtr = X[train, :]\n",
    "  ytr = y[train]\n",
    "  Xts = X[test, :]\n",
    "  yts = y[test]\n",
    "\n",
    "  scal = StandardScaler()\n",
    "  Xtr1 = scal.fit_transform(Xtr)\n",
    "  Xtsl = scal.transform(Xts)\n",
    "\n",
    "  logreg.fit(Xtr, ytr)\n",
    "  yhat = logreg.predict(Xts)\n",
    "\n",
    "  prec[i], rec[i], f1[i],_ = precision_recall_fscore_support(yts,yhat,average='binary')\n",
    "  err[i] = np.mean(np.mean(yts != yhat))\n",
    "  \n",
    "precm = np.mean(prec)\n",
    "recm = np.mean(rec)\n",
    "f1m = np.mean(f1)\n",
    "errm = np.mean(err)\n",
    "\n",
    "print('Precision = {0:.4f}'.format(precm))\n",
    "print('Recall =    {0:.4f}'.format(recm))\n",
    "print('f1 =        {0:.4f}'.format(f1m))\n",
    "print('Error rate =  {0:.4f}'.format(errm))"
   ]
  },
  {
   "cell_type": "markdown",
   "metadata": {
    "id": "wpSUKdRJrjY-"
   },
   "source": [
    "## Multi-Class Classification\n",
    "\n",
    "Now use the response variable in `df1['class']`.  This has 8 possible classes.  Use the `np.unique` funtion as before to convert this to a vector `y` with values 0 to 7."
   ]
  },
  {
   "cell_type": "code",
   "execution_count": 82,
   "metadata": {
    "colab": {
     "base_uri": "https://localhost:8080/",
     "height": 34
    },
    "id": "17qn6FpvrjY_",
    "outputId": "e2634208-653b-483d-f881-e83ee85d6f5a"
   },
   "outputs": [
    {
     "data": {
      "text/plain": [
       "array([0, 0, 0, ..., 7, 7, 7])"
      ]
     },
     "execution_count": 82,
     "metadata": {
      "tags": []
     },
     "output_type": "execute_result"
    }
   ],
   "source": [
    "# TODO\n",
    "y = np.unique(df1['class'].values, return_inverse=True)\n",
    "y = y[1]\n",
    "y"
   ]
  },
  {
   "cell_type": "markdown",
   "metadata": {
    "id": "V5Y6A678rjZB"
   },
   "source": [
    "Fit a multi-class logistic model by creating a `LogisticRegression` object, `logreg` and then calling the `logreg.fit` method."
   ]
  },
  {
   "cell_type": "code",
   "execution_count": 83,
   "metadata": {
    "colab": {
     "base_uri": "https://localhost:8080/",
     "height": 102
    },
    "id": "WUZ1dxm_D_gF",
    "outputId": "f251d807-8a60-4fa1-9458-2a82e36d43a6"
   },
   "outputs": [
    {
     "data": {
      "text/plain": [
       "LogisticRegression(C=1.0, class_weight=None, dual=False, fit_intercept=True,\n",
       "                   intercept_scaling=1, l1_ratio=None, max_iter=100,\n",
       "                   multi_class='auto', n_jobs=None, penalty='l2',\n",
       "                   random_state=None, solver='lbfgs', tol=0.0001, verbose=0,\n",
       "                   warm_start=False)"
      ]
     },
     "execution_count": 83,
     "metadata": {
      "tags": []
     },
     "output_type": "execute_result"
    }
   ],
   "source": [
    "logreg = linear_model.LogisticRegression()\n",
    "logreg.fit(Xtr1, ytr)"
   ]
  },
  {
   "cell_type": "markdown",
   "metadata": {
    "id": "WzXjfI5xrjZC"
   },
   "source": [
    "Now perform 10-fold cross validation, and measure the confusion matrix `C` on the test data in each fold. You can use the `confustion_matrix` method in the `sklearn` package.  Add the confusion matrix counts across all folds and then normalize the rows of the confusion matrix so that they sum to one.  Thus, each element `C[i,j]` will represent the fraction of samples where `yhat==j` given `ytrue==i`.  Print the confusion matrix.  You can use the command\n",
    "\n",
    "    print(np.array_str(C, precision=4, suppress_small=True))\n",
    "    \n",
    "to create a nicely formatted print.  Also print the overall mean and SE of the test accuracy across the folds."
   ]
  },
  {
   "cell_type": "code",
   "execution_count": 90,
   "metadata": {
    "colab": {
     "base_uri": "https://localhost:8080/",
     "height": 170
    },
    "id": "UmpAnsXhrjZC",
    "outputId": "15e8be24-6c2a-4d57-af09-7326be337e82"
   },
   "outputs": [
    {
     "name": "stdout",
     "output_type": "stream",
     "text": [
      "[[0.76   0.1778 0.     0.     0.0815 0.0095 0.     0.    ]\n",
      " [0.1    0.7556 0.     0.     0.0963 0.0476 0.     0.    ]\n",
      " [0.     0.     1.     0.     0.     0.     0.     0.    ]\n",
      " [0.     0.0074 0.     0.9481 0.     0.     0.     0.0444]\n",
      " [0.     0.0815 0.     0.     0.8741 0.0286 0.     0.0222]\n",
      " [0.0133 0.0296 0.     0.     0.0148 0.9238 0.     0.    ]\n",
      " [0.     0.     0.0933 0.     0.     0.     0.8963 0.    ]\n",
      " [0.     0.     0.     0.     0.     0.     0.     1.    ]]\n",
      "Error rate =  0.1065, SE=0.0121\n"
     ]
    }
   ],
   "source": [
    "from sklearn.metrics import confusion_matrix\n",
    "from sklearn.model_selection import KFold\n",
    "import warnings\n",
    "\n",
    "warnings.filterwarnings('ignore')\n",
    "\n",
    "# TODO\n",
    "C = np.zeros((np.max(y) + 1, (np.max(y) + 1)))\n",
    "nfold = 10\n",
    "kf = KFold(n_splits=nfold,shuffle=True)\n",
    "err = np.zeros(nfold)\n",
    "\n",
    "for i, I in enumerate(kf.split(X)):\n",
    "  train, test = I\n",
    "  Xtr = X[train, :]\n",
    "  ytr = y[train]\n",
    "  Xts = X[test, :]\n",
    "  yts = y[test]\n",
    "\n",
    "  scal = StandardScaler()\n",
    "  Xtr1 = scal.fit_transform(Xtr)\n",
    "  Xtsl = scal.transform(Xts)\n",
    "\n",
    "  logreg.fit(Xtr, ytr)\n",
    "  yhat = logreg.predict(Xts)\n",
    "\n",
    "  C += confusion_matrix(yts, yhat)\n",
    "  err[i] = np.mean(yhat != yts)\n",
    "\n",
    "C = C / np.sum(C, 1)[np.newaxis, :]\n",
    "errm = np.mean(err)\n",
    "err_se = np.std(err)/np.sqrt(nfold - 1)\n",
    "\n",
    "print(np.array_str(C, precision=4, suppress_small=True))\n",
    "print('Error rate =  {0:.4f}, SE={1:.4f}'.format(errm, err_se))\n"
   ]
  },
  {
   "cell_type": "markdown",
   "metadata": {
    "id": "LYUwDRWXrjZE"
   },
   "source": [
    "Re-run the logistic regression on the entire training data and get the weight coefficients.  This should be a 8 x 77 matrix.  Create a stem plot of the first row of this matrix to see the coefficients on each of the genes."
   ]
  },
  {
   "cell_type": "code",
   "execution_count": 94,
   "metadata": {
    "colab": {
     "base_uri": "https://localhost:8080/",
     "height": 282
    },
    "id": "GOBWb6VfrjZF",
    "outputId": "93c4ecf3-8419-4c53-ecb6-365200863c23"
   },
   "outputs": [
    {
     "data": {
      "text/plain": [
       "<StemContainer object of 3 artists>"
      ]
     },
     "execution_count": 94,
     "metadata": {
      "tags": []
     },
     "output_type": "execute_result"
    },
    {
     "data": {
      "image/png": "[encoded data removed]",
      "text/plain": [
       "<Figure size 432x288 with 1 Axes>"
      ]
     },
     "metadata": {
      "needs_background": "light",
      "tags": []
     },
     "output_type": "display_data"
    }
   ],
   "source": [
    "# TODO\n",
    "logreg = linear_model.LogisticRegression()\n",
    "logreg.fit(X, y)\n",
    "W= logreg.coef_\n",
    "W.shape\n",
    "\n",
    "plt.stem(W[0, :])"
   ]
  },
  {
   "cell_type": "markdown",
   "metadata": {
    "collapsed": true,
    "id": "NV1UVMnyrjZH"
   },
   "source": [
    "## L1-Regularization\n",
    "\n",
    "This section is bonus.\n",
    "\n",
    "In most genetic problems, only a limited number of the tested genes are likely influence any particular attribute.  Hence, we would expect that the weight coefficients in the logistic regression model should be sparse.  That is, they should be zero on any gene that plays no role in the particular attribute of interest.  Genetic analysis commonly imposes sparsity by adding an l1-penalty term.  Read the `sklearn` [documentation](http://scikit-learn.org/stable/modules/generated/sklearn.linear_model.LogisticRegression.html) on the `LogisticRegression` class to see how to set the l1-penalty and the inverse regularization strength, `C`.\n",
    "\n",
    "Using the model selection strategies from the [housing demo](../unit05_lasso/demo2_housing.ipynb), use K-fold cross validation to select an appropriate inverse regularization strength.  \n",
    "* Use 10-fold cross validation \n",
    "* You should select around 20 values of `C`.  It is up to you find a good range.\n",
    "* Make appropriate plots and print out to display your results\n",
    "* How does the accuracy compare to the accuracy achieved without regularization."
   ]
  },
  {
   "cell_type": "code",
   "execution_count": 113,
   "metadata": {
    "id": "CvEhCZiirjZH"
   },
   "outputs": [],
   "source": [
    "# TODO\n",
    "C = np.logspace(-2, 2, 20)\n",
    "\n",
    "nfold = 10\n",
    "kf = KFold(n_splits=nfold,shuffle=True)\n",
    "err = np.zeros((20, nfold))\n",
    "\n",
    "for i, I in enumerate(kf.split(X)):\n",
    "  train, test = I\n",
    "  Xtr = X[train, :]\n",
    "  ytr = y[train]\n",
    "  Xts = X[test, :]\n",
    "  yts = y[test]\n",
    "\n",
    "  scal = StandardScaler()\n",
    "  Xtr1 = scal.fit_transform(Xtr)\n",
    "  Xtsl = scal.transform(Xts)\n",
    "\n",
    "  for ip , c in enumerate(C):\n",
    "    logreg.C = c\n",
    "    logreg.fit(Xtr1, ytr)\n",
    "    yhat = logreg.predict(Xtsl)\n",
    "\n",
    "    err[ip, i] = np.mean(yhat != yts)\n",
    "\n"
   ]
  },
  {
   "cell_type": "code",
   "execution_count": 117,
   "metadata": {
    "colab": {
     "base_uri": "https://localhost:8080/",
     "height": 85
    },
    "id": "Zj5IAPDerjZJ",
    "outputId": "40cdc4b5-f659-4761-abd5-57a0fba4f01d"
   },
   "outputs": [
    {
     "data": {
      "text/plain": [
       "array([0.07314815, 0.05555556, 0.03611111, 0.02592593, 0.02037037,\n",
       "       0.01574074, 0.01296296, 0.01018519, 0.00925926, 0.00833333,\n",
       "       0.00833333, 0.00833333, 0.00833333, 0.00833333, 0.00740741,\n",
       "       0.00740741, 0.00740741, 0.00648148, 0.00648148, 0.00648148])"
      ]
     },
     "execution_count": 117,
     "metadata": {
      "tags": []
     },
     "output_type": "execute_result"
    }
   ],
   "source": [
    "errm = np.mean(err, axis = 1)\n",
    "err_se = np.std(err,axis=1)/np.sqrt(nfold-1)\n",
    "errm"
   ]
  },
  {
   "cell_type": "code",
   "execution_count": 143,
   "metadata": {
    "colab": {
     "base_uri": "https://localhost:8080/",
     "height": 265
    },
    "id": "lCIlFIPoQrb-",
    "outputId": "fe1f4bc5-b8bf-485d-9120-d61f6db26338"
   },
   "outputs": [
    {
     "data": {
      "image/png": "[encoded data removed]",
      "text/plain": [
       "<Figure size 432x288 with 1 Axes>"
      ]
     },
     "metadata": {
      "needs_background": "light",
      "tags": []
     },
     "output_type": "display_data"
    }
   ],
   "source": [
    "err_se = np.std(err, axis = 1)/np.sqrt(nfold - 1)\n",
    "plt.errorbar(np.log10(C), errm, marker='o',yerr=err_se)\n",
    "plt.grid()\n",
    "plt.show()"
   ]
  },
  {
   "cell_type": "code",
   "execution_count": 144,
   "metadata": {
    "colab": {
     "base_uri": "https://localhost:8080/",
     "height": 34
    },
    "id": "KdhiA5s3SmfF",
    "outputId": "936e33ec-72c1-4565-9d64-c59060c32515"
   },
   "outputs": [
    {
     "data": {
      "text/plain": [
       "0.7847599703514611"
      ]
     },
     "execution_count": 144,
     "metadata": {
      "tags": []
     },
     "output_type": "execute_result"
    }
   ],
   "source": [
    "err_tgt = errm[np.argmin(errm)] + err_se[np.argmin(errm)]\n",
    "Copt = C[np.where(errm < err_tgt)[0][0]]\n",
    "Copt"
   ]
  },
  {
   "cell_type": "code",
   "execution_count": 142,
   "metadata": {
    "colab": {
     "base_uri": "https://localhost:8080/",
     "height": 640
    },
    "id": "KIct8gRwSZ1D",
    "outputId": "33dfb546-4ccf-42d5-e43e-b8c2343bd9d8"
   },
   "outputs": [
    {
     "data": {
      "image/png": "[encoded data removed]",
      "text/plain": [
       "<Figure size 432x288 with 2 Axes>"
      ]
     },
     "metadata": {
      "needs_background": "light",
      "tags": []
     },
     "output_type": "display_data"
    }
   ],
   "source": [
    "#compare regularization with regularization\n",
    "logreg= linear_model.LogisticRegression(C = Copt, penalty='l1', solver = 'liblinear')\n",
    "logreg.C = Copt\n",
    "logreg.fit(Xtr1, ytr)\n",
    "\n",
    "yhat = logreg.predict(Xts1)\n",
    "acc = np.mean(yhat == yts)\n",
    "W_reg = logreg.coef_\n",
    "\n",
    "plt.subplots_adjust(left=None, bottom=5, right=2, top=7,\n",
    "                wspace=None, hspace=None)\n",
    "plt.subplot(2, 1, 1)\n",
    "plt.stem(W[0, :])\n",
    "plt.title('without regularization')\n",
    "plt.grid()\n",
    "plt.subplot(2, 1, 2)\n",
    "plt.stem(W_reg[0, :])\n",
    "plt.title('after regularization')\n",
    "plt.grid()\n",
    "\n"
   ]
  }
 ],
 "metadata": {
  "anaconda-cloud": {},
  "colab": {
   "name": "lab_gene_partial.ipynb",
   "provenance": []
  },
  "kernelspec": {
   "display_name": "Python 3",
   "language": "python",
   "name": "python3"
  },
  "language_info": {
   "codemirror_mode": {
    "name": "ipython",
    "version": 3
   },
   "file_extension": ".py",
   "mimetype": "text/x-python",
   "name": "python",
   "nbconvert_exporter": "python",
   "pygments_lexer": "ipython3",
   "version": "3.8.3"
  }
 },
 "nbformat": 4,
 "nbformat_minor": 1
}
