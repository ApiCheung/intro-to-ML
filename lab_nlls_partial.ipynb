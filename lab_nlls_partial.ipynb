{
 "cells": [
  {
   "cell_type": "markdown",
   "metadata": {
    "id": "1DXb5ZkFHboT"
   },
   "source": [
    "# Lab:  Nonlinear Least Squares for Modeling Materials\n",
    "\n",
    "Nonlinear least squares (NLLS) is a widely-used method for modeling data.  In NLLS, we wish to fit a model of the form,\n",
    "\n",
    "     yhat = g(x,w)\n",
    "     \n",
    "where `w` is a vector of paramters and `x` is the vector of predictors.  We find `w` by minimizing a least-squares function \n",
    "\n",
    "     f(w) = \\sum_i (y_i - g(x_i,w))^2\n",
    "     \n",
    "where the summation is over training samples `(x_i,y_i)`.  This is similar to linear least-squares, but the function `g(x,w)` may not be linear in `w`.  In general, this optimization has no closed-form expression.  So numerical optimization must be used.  \n",
    "\n",
    "In this lab, we will implement gradient descent on NLLS in a problem of physical modeling of materials.  Specifically, we will estimate parameters for expansion of copper as a function of temperature using a real dataset.  In doing this lab, you will learn to:\n",
    "* Set up a nonlinear least squares as an unconstrained optimization function\n",
    "* Compute initial parameter estimates for a simple rational model\n",
    "* Compute the gradients of the least squares objective\n",
    "* Implement gradient descent for minimizing the objective\n",
    "* Implement momentum gradient descent\n",
    "* Visualize the convergence of the algorithm\n",
    "\n",
    "We first import some key packages."
   ]
  },
  {
   "cell_type": "code",
   "execution_count": 1,
   "metadata": {
    "id": "O9dFFgsjHboU"
   },
   "outputs": [],
   "source": [
    "import pandas as pd\n",
    "import numpy as np\n",
    "import matplotlib.pyplot as plt\n",
    "from sklearn.linear_model import Ridge, LinearRegression"
   ]
  },
  {
   "cell_type": "markdown",
   "metadata": {
    "id": "ltphj313HboX"
   },
   "source": [
    "## Load the Data\n",
    "\n",
    "The NIST agency has an excellent [nonlinear regression website](https://www.itl.nist.gov/div898/strd/nls/nls_main.shtml) that has several datasets for nonlinear regression problems.  In this lab, we will use the data from a NIST study involving the thermal expansion of copper. The response variable is the coefficient of thermal expansion, and the predictor variable is temperature in degrees kelvin.  \n",
    "\n",
    "> Hahn, T., NIST (1979), Copper Thermal Expansion Study.  (unpublished}\n",
    "\n",
    "You can download the data as follows."
   ]
  },
  {
   "cell_type": "code",
   "execution_count": 2,
   "metadata": {
    "colab": {
     "base_uri": "https://localhost:8080/",
     "height": 204
    },
    "id": "wlkjuDquHboY",
    "outputId": "7cf93e6a-7123-4025-b04d-765cd12c5b34"
   },
   "outputs": [
    {
     "data": {
      "text/html": [
       "<div>\n",
       "<style scoped>\n",
       "    .dataframe tbody tr th:only-of-type {\n",
       "        vertical-align: middle;\n",
       "    }\n",
       "\n",
       "    .dataframe tbody tr th {\n",
       "        vertical-align: top;\n",
       "    }\n",
       "\n",
       "    .dataframe thead th {\n",
       "        text-align: right;\n",
       "    }\n",
       "</style>\n",
       "<table border=\"1\" class=\"dataframe\">\n",
       "  <thead>\n",
       "    <tr style=\"text-align: right;\">\n",
       "      <th></th>\n",
       "      <th>x0</th>\n",
       "      <th>y0</th>\n",
       "      <th>dummy</th>\n",
       "    </tr>\n",
       "  </thead>\n",
       "  <tbody>\n",
       "    <tr>\n",
       "      <th>0</th>\n",
       "      <td>0.591</td>\n",
       "      <td>24.41</td>\n",
       "      <td>NaN</td>\n",
       "    </tr>\n",
       "    <tr>\n",
       "      <th>1</th>\n",
       "      <td>1.547</td>\n",
       "      <td>34.82</td>\n",
       "      <td>NaN</td>\n",
       "    </tr>\n",
       "    <tr>\n",
       "      <th>2</th>\n",
       "      <td>2.902</td>\n",
       "      <td>44.09</td>\n",
       "      <td>NaN</td>\n",
       "    </tr>\n",
       "    <tr>\n",
       "      <th>3</th>\n",
       "      <td>2.894</td>\n",
       "      <td>45.07</td>\n",
       "      <td>NaN</td>\n",
       "    </tr>\n",
       "    <tr>\n",
       "      <th>4</th>\n",
       "      <td>4.703</td>\n",
       "      <td>54.98</td>\n",
       "      <td>NaN</td>\n",
       "    </tr>\n",
       "  </tbody>\n",
       "</table>\n",
       "</div>"
      ],
      "text/plain": [
       "      x0     y0  dummy\n",
       "0  0.591  24.41    NaN\n",
       "1  1.547  34.82    NaN\n",
       "2  2.902  44.09    NaN\n",
       "3  2.894  45.07    NaN\n",
       "4  4.703  54.98    NaN"
      ]
     },
     "execution_count": 2,
     "metadata": {},
     "output_type": "execute_result"
    }
   ],
   "source": [
    "url = 'https://itl.nist.gov/div898/strd/nls/data/LINKS/DATA/Hahn1.dat'\n",
    "df = pd.read_csv(url, skiprows=60, sep=' ',skipinitialspace=True, names=['x0','y0','dummy'])\n",
    "df.head()"
   ]
  },
  {
   "cell_type": "markdown",
   "metadata": {
    "id": "QJ0509qrHbob"
   },
   "source": [
    "Extract the `x0` and `y0` into arrays.  Rescale, `x0` and `y0` to values between `0` and `1` by dividing `x0` and `y0` by the maximum value.  Store the scaled values in vectors `x` and `y`.  The rescaling will help with the conditioning of the fitting.  Plot, `y` vs. `x`. "
   ]
  },
  {
   "cell_type": "code",
   "execution_count": 11,
   "metadata": {
    "colab": {
     "base_uri": "https://localhost:8080/",
     "height": 279
    },
    "id": "nQMQ8tSqHbob",
    "outputId": "3380ded8-0c02-4256-b8d2-5cd0fdfab7c9"
   },
   "outputs": [
    {
     "data": {
      "image/png": "[encoded data removed]",
      "text/plain": [
       "<Figure size 432x288 with 1 Axes>"
      ]
     },
     "metadata": {
      "needs_background": "light"
     },
     "output_type": "display_data"
    }
   ],
   "source": [
    "# TODO\n",
    "x0 = np.array(df['x0'])\n",
    "y0 = np.array(df['y0'])\n",
    "\n",
    "x = x0/np.max(x0)\n",
    "y = y0/np.max(y0)\n",
    "\n",
    "#plt.plot(x, y)\n",
    "plt.plot(x, y, 'o')\n",
    "plt.xlabel('x0')\n",
    "plt.ylabel('y0')\n",
    "plt.grid()\n",
    "plt.show()"
   ]
  },
  {
   "cell_type": "markdown",
   "metadata": {
    "id": "t0tcy1ATHbod"
   },
   "source": [
    "To make the problem a little more challenging, we will add some noise.  Add random Gaussian noise with mean 0 and std. dev = 0.05 to `y`.  Store the noisy results in `yn`. You can use the `np.random.normal()` function to add Gaussian noise. Plot `yn` vs. `x`."
   ]
  },
  {
   "cell_type": "code",
   "execution_count": 113,
   "metadata": {
    "colab": {
     "base_uri": "https://localhost:8080/",
     "height": 279
    },
    "id": "I4zKIzhXHboe",
    "outputId": "b93c98b1-9f87-43a1-a5c5-edc21fc39e80"
   },
   "outputs": [
    {
     "data": {
      "image/png": "[encoded data removed]",
      "text/plain": [
       "<Figure size 432x288 with 1 Axes>"
      ]
     },
     "metadata": {
      "needs_background": "light"
     },
     "output_type": "display_data"
    }
   ],
   "source": [
    "# TODO\n",
    "yn = y + np.random.normal(0, 0.02, len(y0))\n",
    "#yn\n",
    "\n",
    "plt.plot(x, yn, 'o')\n",
    "plt.plot(x, y, 'o')\n",
    "plt.xlabel('x0')\n",
    "plt.ylabel('yn')\n",
    "plt.grid()\n",
    "plt.show()"
   ]
  },
  {
   "cell_type": "markdown",
   "metadata": {
    "id": "x8BZ2lryHbog"
   },
   "source": [
    "Split the data `(x,yn)` into training and test.  Let `xtr,ytr` be training data and `xts,yts` be the test data.  You can use the `train_test_split` function.  Set `test_size=0.33` so that 1/3 of the samples are held out for test."
   ]
  },
  {
   "cell_type": "code",
   "execution_count": 114,
   "metadata": {
    "colab": {
     "base_uri": "https://localhost:8080/",
     "height": 282
    },
    "id": "fA8TlU-BHbog",
    "outputId": "2b956298-8647-46f9-fa77-6765f5d297b4"
   },
   "outputs": [
    {
     "data": {
      "image/png": "[encoded data removed]",
      "text/plain": [
       "<Figure size 432x288 with 1 Axes>"
      ]
     },
     "metadata": {
      "needs_background": "light"
     },
     "output_type": "display_data"
    }
   ],
   "source": [
    "from sklearn.model_selection import train_test_split\n",
    "\n",
    "# TODO\n",
    "Xtr, Xts, ytr, yts = train_test_split(x, yn, test_size = 0.33)\n",
    "\n",
    "plt.plot(Xtr, ytr, 'o')\n",
    "plt.plot(Xts, yts, 'o')\n",
    "plt.grid()\n",
    "plt.show()"
   ]
  },
  {
   "cell_type": "markdown",
   "metadata": {
    "id": "Ep3FZJxsHboj"
   },
   "source": [
    "## Initial Fit for a Rational Model\n",
    "\n",
    "The [NIST website](https://www.itl.nist.gov/div898/strd/nls/data/hahn1.shtml) suggests using a *rational* model of the form,\n",
    "\n",
    "      yhat = (a[0] + a[1]*x + ... + a[d]*x^d)/(1 + b[0]*x + ... + b[d-1]*x^d)\n",
    "      \n",
    "with `d=3`.  The model parameters are `w = [a[0],...,a[d],b[0],...,b[d-1]]` so there are `2d+1` parameters total.    Complete the function below that takes vectors `w` and `x` and predicts a set of values `yhat` using the above model.\n",
    "   "
   ]
  },
  {
   "cell_type": "code",
   "execution_count": 115,
   "metadata": {
    "id": "klU1gyoUHbok"
   },
   "outputs": [],
   "source": [
    "def predict(w,x):\n",
    "    \n",
    "    # Get the length\n",
    "    d = (len(w)-1)//2\n",
    "    \n",
    "    # TODO.  Extract a and b from w\n",
    "    a = w[ : (d+1) ]\n",
    "    b = w[ d+1 : ]\n",
    "    \n",
    "    # TODO.  Compute yhat.  You may use the np.polyval function\n",
    "    # But, remember you must flip the order the a and b\n",
    "    arev = a[::-1]\n",
    "    brev = b[::-1]\n",
    "    znum = np.polyval(arev, x)\n",
    "    zden = 1+ x * np.polyval(brev, x)\n",
    "    yhat = znum/zden\n",
    "    return yhat"
   ]
  },
  {
   "cell_type": "markdown",
   "metadata": {
    "id": "wHOicH9VHbom"
   },
   "source": [
    "When we fit with a nonlinear model, most methods only get convergence to a local minima.  So, you need a good initial condition.  For a rational model, one way to get is to realize that if:\n",
    "\n",
    "\n",
    "    y ~= (a[0] + a[1]*x + ... + a[d]*x^d)/(1 + b[0]*x + ... + b[d-1]*x^d)\n",
    "    \n",
    "Then:\n",
    "\n",
    "    y ~= a[0] + a[1]*x + ... + a[d]*x^d - b[0]*x*y + ... - b[d-1]*x^d*y.\n",
    "    \n",
    "So, we can solve for the the parameters `w = [a,b]` from linear regression of the predictors,\n",
    "\n",
    "    Z[i,:] = [ x[i], ... , x[i]**d, y[i]*x[i], ... , y[i}*x[i]**d ] "
   ]
  },
  {
   "cell_type": "code",
   "execution_count": 116,
   "metadata": {
    "colab": {
     "base_uri": "https://localhost:8080/",
     "height": 51
    },
    "id": "3Q8wfKTlHbom",
    "outputId": "47b1f1ee-c9cd-4360-f9cc-634d8c749552"
   },
   "outputs": [
    {
     "data": {
      "text/plain": [
       "array([ 0.01923806,  0.08876407, -0.49765923,  0.4372529 , -4.52387739,\n",
       "        6.0858412 , -2.51834299])"
      ]
     },
     "execution_count": 116,
     "metadata": {},
     "output_type": "execute_result"
    }
   ],
   "source": [
    "d = 3\n",
    "\n",
    "# TODO.  Create the transformed feature matrix\n",
    "powd = np.arange(1, d+1)\n",
    "Znum = Xtr[:, None] ** powd[None, :]\n",
    "Zden = -ytr[:, None] * Znum\n",
    "Z = np.hstack((Znum, Zden))\n",
    "\n",
    "# TODO.  Fit with parameters with linear regression\n",
    "regr = LinearRegression()\n",
    "regr.fit(Z, ytr)\n",
    "\n",
    "# TODO\n",
    "# Extract the parameters from regr.coef_ and regr.intercept_ and store the parameter vector in winit\n",
    "\n",
    "w0 = regr.coef_\n",
    "a0 = regr.intercept_\n",
    "winit = np.hstack((a0, w0))\n",
    "\n",
    "winit"
   ]
  },
  {
   "cell_type": "markdown",
   "metadata": {
    "id": "nbLwTN02Hboo"
   },
   "source": [
    "Now plot the predicted values of the `yhat` vs. `x` using your estimated parameter `winit` for 1000 values `x` in `[0,1]`.  On the same plot, plot `yts` vs. `xts`.  You will see that you get a horrible fit."
   ]
  },
  {
   "cell_type": "code",
   "execution_count": 117,
   "metadata": {
    "colab": {
     "base_uri": "https://localhost:8080/",
     "height": 283
    },
    "id": "aHMPJg4qHbop",
    "outputId": "a7ceca62-9a64-4d98-dcc4-fde41908c04a"
   },
   "outputs": [
    {
     "data": {
      "image/png": "[encoded data removed]",
      "text/plain": [
       "<Figure size 432x288 with 1 Axes>"
      ]
     },
     "metadata": {
      "needs_background": "light"
     },
     "output_type": "display_data"
    }
   ],
   "source": [
    "# TODO\n",
    "xp = np.linspace(0 ,1, 1000)\n",
    "yhat = predict(winit, xp)\n",
    "plt.plot(xp, yhat)\n",
    "plt.plot(Xts, yts, 'o')\n",
    "plt.xlabel('xp')\n",
    "plt.ylabel('yhat')\n",
    "plt.grid()\n",
    "plt.show()"
   ]
  },
  {
   "cell_type": "markdown",
   "metadata": {
    "id": "IoqtRR3JHbor"
   },
   "source": [
    "The reason the previous fit is poor is that the denominator in `yhat` goes close to zero.   To avoid this problem, we can use Ridge regression, to try to keep the parameters close to zero.  Re-run the fit above with `Ridge` with `alpha = 1e-3`. You should see you get a reasonable, but not perfect fit."
   ]
  },
  {
   "cell_type": "code",
   "execution_count": 118,
   "metadata": {
    "colab": {
     "base_uri": "https://localhost:8080/",
     "height": 283
    },
    "id": "TmgpkDlzHbor",
    "outputId": "e7c447b7-4ae5-4522-820c-68428e8baf1b"
   },
   "outputs": [
    {
     "data": {
      "image/png": "[encoded data removed]",
      "text/plain": [
       "<Figure size 432x288 with 1 Axes>"
      ]
     },
     "metadata": {
      "needs_background": "light"
     },
     "output_type": "display_data"
    }
   ],
   "source": [
    "# TODO.  Fit with parameters with linear regression\n",
    "alpha=1e-3\n",
    "regr = Ridge(alpha=alpha)\n",
    "regr.fit(Z, ytr)\n",
    "\n",
    "# TODO\n",
    "# Extract the parameters from regr.coef_ and regr.intercept_\n",
    "w0 = regr.coef_\n",
    "a0 = regr.intercept_\n",
    "winit = np.hstack((a0, w0))\n",
    "\n",
    "# TODO\n",
    "xp = np.linspace(0 ,1, 1000)\n",
    "yhat = predict(winit, xp)\n",
    "plt.plot(xp, yhat)\n",
    "plt.plot(Xts, yts, 'o')\n",
    "plt.xlabel('xp')\n",
    "plt.ylabel('yhat')\n",
    "plt.grid()\n",
    "plt.show()"
   ]
  },
  {
   "cell_type": "markdown",
   "metadata": {
    "id": "cIPMlPmUHbot"
   },
   "source": [
    "## Creating a Loss Function\n",
    "\n",
    "We can now use gradient descent to improve our initial estimate.  Complete the following function to compute\n",
    "\n",
    "    f(w) = 0.5*\\sum_i (y[i] - yhat[i])^2\n",
    "    \n",
    "and `fgrad`, the gradient of `f(w)`."
   ]
  },
  {
   "cell_type": "code",
   "execution_count": 119,
   "metadata": {
    "id": "5Nv-gcCsHbot"
   },
   "outputs": [],
   "source": [
    "def feval(w,x,y):\n",
    "        \n",
    "    \n",
    "    # TODO.  Parse w\n",
    "    d = (len(w) - 1) // 2\n",
    "    a = w[0 : d+1]\n",
    "    b = w[d+1 : ]\n",
    "    \n",
    "    # TODO.  Znum[i,j] = x[i]**j\n",
    "    Znum = np.zeros((len(x), d+1))\n",
    "    for j in range(d + 1):\n",
    "      Znum[ : , j] = x[:] ** j\n",
    "\n",
    "    # TODO.  Zden[i,j] = x[i]**(j+1)\n",
    "    Zden = np.zeros((len(x), d))\n",
    "    for j in range(d):\n",
    "      Zden[ : , j] = x[:] ** (j + 1)\n",
    "\n",
    "    # TODO.  Compute yhat \n",
    "    yhat = np.zeros((len(x)))\n",
    "    for i in range(len(x)):\n",
    "      yhat[i] = Znum[i, :].dot(a)/(1+Zden[i, :].dot(b))\n",
    "\n",
    "    # Compute the numerator and denominator\n",
    "    \n",
    "    # TODO.  Compute loss\n",
    "    f = 0.5 * np.sum(np.square(y - yhat))\n",
    "    \n",
    "    # TODO.  Compute gradients\n",
    "    grada = np.zeros(len(a))\n",
    "    gradb = np.zeros(len(b))\n",
    "    for j in range(len(a)):\n",
    "      grada[j] = -np.sum((y - yhat) * Znum[:, j]/(1+np.matmul(Zden, b)))\n",
    "    for j in range(len(b)):\n",
    "      gradb[j] = np.sum((y - yhat) * yhat * Zden[:, j]/(1+np.matmul(Zden, b)))\n",
    "\n",
    "    fgrad = np.concatenate((grada, gradb))\n",
    "    \n",
    "    return f, fgrad\n"
   ]
  },
  {
   "cell_type": "markdown",
   "metadata": {
    "id": "01O60c0OHbov"
   },
   "source": [
    "Test the gradient function:\n",
    "* Take `w0=winit` and compute `f0,fgrad0 = feval(w0,xtr,ytr)`\n",
    "* Take `w1` very close to `w0` and compute `f1,fgrad1 = feval(w1,xtr,ytr)`\n",
    "* Verify that `f1-f0` is close to the predicted value based on the gradient."
   ]
  },
  {
   "cell_type": "code",
   "execution_count": 120,
   "metadata": {
    "colab": {
     "base_uri": "https://localhost:8080/",
     "height": 51
    },
    "id": "HUlOwb4aHbov",
    "outputId": "347bee75-83aa-432e-e5ff-d23fa85f217b"
   },
   "outputs": [
    {
     "name": "stdout",
     "output_type": "stream",
     "text": [
      "2.644124577833029e-05\n",
      "2.6308260017200922e-05\n"
     ]
    }
   ],
   "source": [
    "# TODO\n",
    "w0 = winit \n",
    "f0, fgrad0 = feval(w0, Xtr, ytr)\n",
    "w1 = w0 + 1e-6\n",
    "f1, fgrad1 = feval(w1, Xtr, ytr)\n",
    "print(f1- f0)\n",
    "print((fgrad0.dot(w1-w0)))"
   ]
  },
  {
   "cell_type": "markdown",
   "metadata": {
    "id": "mUU0_fmaHbox"
   },
   "source": [
    "## Implement gradient descent\n",
    "\n",
    "We will now try to minimize the loss function with gradient descent.  Using the function `feval` defined above, implement gradient descent.  Run gradient descent with a step size of `alpha=1e-6` starting at `w=winit`.  Run it for `nit=10000` iterations.  Compute `fgd[it]`= the objective function on iteration `it`.  Plot `fgd[it]` vs. `it`.  \n",
    "\n",
    "You should see that the training loss decreases, but it still hasn't converged after 10000 iterations."
   ]
  },
  {
   "cell_type": "code",
   "execution_count": 121,
   "metadata": {
    "colab": {
     "base_uri": "https://localhost:8080/",
     "height": 300
    },
    "id": "fHo35hw-Hboy",
    "outputId": "8e489460-0666-4c3b-885e-83062ee1dd73"
   },
   "outputs": [
    {
     "data": {
      "text/plain": [
       "Text(0, 0.5, 'Training loss')"
      ]
     },
     "execution_count": 121,
     "metadata": {},
     "output_type": "execute_result"
    },
    {
     "data": {
      "image/png": "[encoded data removed]",
      "text/plain": [
       "<Figure size 432x288 with 1 Axes>"
      ]
     },
     "metadata": {
      "needs_background": "light"
     },
     "output_type": "display_data"
    }
   ],
   "source": [
    "# TODO\n",
    "# fgd = ...\n",
    "nit = 10000\n",
    "step = 1e-6\n",
    "hist = {'w' :[], 'f' : []}\n",
    "w0 = winit \n",
    "\n",
    "for it in range(nit):\n",
    "  f0, fgrad0 = feval(w0, Xtr, ytr)\n",
    "  w0 = w0 - fgrad0*step\n",
    "  hist['f'].append(f0)\n",
    "  hist['w'].append(w0)\n",
    "  \n",
    "for elem in ('f', 'w'):\n",
    "  hist[elem] = np.array(hist[elem])\n",
    "\n",
    "t = np.arange(nit) + 1\n",
    "plt.plot(t, hist['f'])\n",
    "plt.grid()\n",
    "plt.xlabel('Iteration')\n",
    "plt.ylabel('Training loss')\n",
    "\n",
    "\n"
   ]
  },
  {
   "cell_type": "markdown",
   "metadata": {
    "id": "zlfcuwJ3Hbo0"
   },
   "source": [
    "Now, try to get a faster convergence with adaptive step-size using the Armijo rule. Implement the gradient descent with adaptive step size.  Let `fadapt[it]` be the loss function on iteration `it`.  Plot `fadapt[it]` and `fgd[it]` vs. `it` on the same graph.  You should see a slight improvement, but not much."
   ]
  },
  {
   "cell_type": "code",
   "execution_count": 122,
   "metadata": {
    "colab": {
     "base_uri": "https://localhost:8080/",
     "height": 269
    },
    "id": "iXi8VbsPHbo0",
    "outputId": "cdcb4e6d-3ddf-4a5e-c642-a06b2a8df0e7",
    "scrolled": true
   },
   "outputs": [
    {
     "data": {
      "image/png": "[encoded data removed]",
      "text/plain": [
       "<Figure size 432x288 with 1 Axes>"
      ]
     },
     "metadata": {
      "needs_background": "light"
     },
     "output_type": "display_data"
    }
   ],
   "source": [
    "# TODO\n",
    "# fadapt = ...\n",
    "nit = 10000\n",
    "step = 1e-6\n",
    "hist_Armijo = {'w': [], 'f': []}\n",
    "w0 = winit\n",
    "f0, fgrad0 = feval(w0, Xtr, ytr)\n",
    "\n",
    "for it in range(nit):\n",
    "  w1 = w0 - step * fgrad0\n",
    "  f1, fgrad1 = feval(w1, Xtr, ytr)\n",
    "  df_est = fgrad0.dot(w1 - w0)\n",
    "  alpha = 0.5\n",
    "  if (f1-f0 < alpha*df_est) and (f1 < f0):\n",
    "    step = step*2\n",
    "    f0 = f1\n",
    "    fgrad0 = fgrad1\n",
    "    w0 = w1\n",
    "  else:\n",
    "    step = step/2\n",
    "    #step = np.maximum(step, 1e-6 )\n",
    "    \n",
    "  hist_Armijo['f'].append(f0)\n",
    "  hist_Armijo['w'].append(w0)\n",
    "\n",
    "    # Convert to numpy arrays\n",
    "for elem in ('f', 'w'):\n",
    "  hist_Armijo[elem] = np.array(hist_Armijo[elem])\n",
    "\n",
    "plt.plot(hist_Armijo['f'])\n",
    "plt.plot(hist['f'])\n",
    "plt.legend(('Armijo', 'Original'))\n",
    "plt.grid()\n",
    "plt.show()\n"
   ]
  },
  {
   "cell_type": "markdown",
   "metadata": {
    "id": "haRLHrzhHbo2"
   },
   "source": [
    "Using he final estimate for `w` from the adaptive step-size plot the predicted values of the `yhat` vs. `x` usfor 1000 values `x` in `[0,1]`.  On the same plot, plot `yhat` vs. `x` for the initial parameter `w=winit`.  Also, plot `yts` vs. `xts`.  You should see that gradient descent was able to improve the estimat slightly, although the initial estimate was not too bad."
   ]
  },
  {
   "cell_type": "code",
   "execution_count": 123,
   "metadata": {
    "colab": {
     "base_uri": "https://localhost:8080/",
     "height": 279
    },
    "id": "YAo6SL6HHbo2",
    "outputId": "f8e376a1-95de-4ada-f048-cc18ace43d23"
   },
   "outputs": [
    {
     "data": {
      "image/png": "[encoded data removed]",
      "text/plain": [
       "<Figure size 432x288 with 1 Axes>"
      ]
     },
     "metadata": {
      "needs_background": "light"
     },
     "output_type": "display_data"
    }
   ],
   "source": [
    "# TODO\n",
    "xp = np.linspace(0, 1, num = 1000)\n",
    "w_adpt = hist_Armijo['w'][9999, :]\n",
    "yhat = predict(w_adpt, xp)\n",
    "\n",
    "plt.plot(xp, yhat)\n",
    "plt.plot(Xts, yts, 'o')\n",
    "plt.xlabel('X')\n",
    "plt.ylabel('y')\n",
    "plt.legend(('predict', 'target'))\n",
    "plt.grid()\n",
    "plt.show()\n"
   ]
  },
  {
   "cell_type": "markdown",
   "metadata": {
    "id": "UXDjWmbOHbo4"
   },
   "source": [
    "## Momentum Gradient Descent\n",
    "\n",
    "This section is bonus.\n",
    "\n",
    "One way to improve gradient descent is to use *momentum*.  In momentum gradient descent, the update rule is:\n",
    "\n",
    "    f, fgrad = feval(w,...)\n",
    "    z = beta*z + fgrad\n",
    "    w = w - step*z\n",
    "    \n",
    "This is similar to gradient descent, except that there is a second order term on the gradient.  Implement this algorithm with `beta = 0.99` and `step=1e-5`.   Compare the convergence of the loss function with gradient descent.  "
   ]
  },
  {
   "cell_type": "code",
   "execution_count": 129,
   "metadata": {
    "colab": {
     "base_uri": "https://localhost:8080/",
     "height": 300
    },
    "id": "B84tNhRhHbo4",
    "outputId": "95dcd43f-530a-40f7-fa6c-ff2f01d61da5"
   },
   "outputs": [
    {
     "data": {
      "text/plain": [
       "<matplotlib.legend.Legend at 0x7fcc395b0790>"
      ]
     },
     "execution_count": 129,
     "metadata": {},
     "output_type": "execute_result"
    },
    {
     "data": {
      "image/png": "[encoded data removed]",
      "text/plain": [
       "<Figure size 432x288 with 1 Axes>"
      ]
     },
     "metadata": {
      "needs_background": "light"
     },
     "output_type": "display_data"
    }
   ],
   "source": [
    "# TODO\n",
    "nit = 10000\n",
    "step = 1e-5\n",
    "beta = 0.99\n",
    "#shape(winit)\n",
    "Z = np.zeros(np.shape(winit))\n",
    "hist_M = {'w': [], 'f': []}\n",
    "w0 = winit\n",
    "for it in range(nit):\n",
    "  f0, fgrad0 = feval(w0, Xtr, ytr)\n",
    "  Z = beta * Z + fgrad0\n",
    "  w0 = w0 - step * Z\n",
    "  hist_M['w'].append(w0)\n",
    "  hist_M['f'].append(f0)\n",
    "\n",
    "for elem in ('f', 'w'):\n",
    "  hist_M[elem] = np.array(hist_M[elem])\n",
    "\n",
    "t = np.arange(nit) + 1\n",
    "plt.plot(t, hist_M['f'])\n",
    "plt.plot(np.arange(10000) + 1, hist['f'])\n",
    "plt.grid()\n",
    "plt.xlabel('Iteration')\n",
    "plt.ylabel('Training loss')\n",
    "\n",
    "plt.legend(('Momemtum', 'Original'))\n",
    "\n"
   ]
  },
  {
   "cell_type": "code",
   "execution_count": 130,
   "metadata": {
    "colab": {
     "base_uri": "https://localhost:8080/",
     "height": 279
    },
    "id": "LkinTASSHbo7",
    "outputId": "ce28023f-6098-4113-d992-95aa778d06cf"
   },
   "outputs": [
    {
     "data": {
      "image/png": "[encoded data removed]",
      "text/plain": [
       "<Figure size 432x288 with 1 Axes>"
      ]
     },
     "metadata": {
      "needs_background": "light"
     },
     "output_type": "display_data"
    }
   ],
   "source": [
    "# TODO\n",
    "# plot yhat vs. x\n",
    "w = np.array(hist_M['w'])[999, :]\n",
    "xp = np.linspace(0, 1, num = 1000)\n",
    "yhat = predict(w, xp)\n",
    "\n",
    "plt.plot(xp, yhat)\n",
    "plt.plot(Xts, yts, 'o')\n",
    "plt.xlabel('X')\n",
    "plt.ylabel('y')\n",
    "plt.legend(('predict', 'target'))\n",
    "plt.grid()\n",
    "plt.show()\n",
    "\n"
   ]
  },
  {
   "cell_type": "markdown",
   "metadata": {
    "id": "yIYJ4AMcHbo9"
   },
   "source": [
    "## Beyond This Lab\n",
    "In this lab, we have just touched at some of the ideas in optimization.  There are several other important algorithms that you can explore:\n",
    "* [Levenberg-Marquardt](https://en.wikipedia.org/wiki/Levenberg%E2%80%93Marquardt_algorithm) method for non-linear least squares\n",
    "* Newton's method\n",
    "* More difficult non-linear least squares problems."
   ]
  },
  {
   "cell_type": "code",
   "execution_count": null,
   "metadata": {
    "id": "k6Ygb0rKHbo9"
   },
   "outputs": [],
   "source": []
  }
 ],
 "metadata": {
  "colab": {
   "name": "lab_nlls_partial.ipynb",
   "provenance": []
  },
  "kernelspec": {
   "display_name": "Python 3",
   "language": "python",
   "name": "python3"
  },
  "language_info": {
   "codemirror_mode": {
    "name": "ipython",
    "version": 3
   },
   "file_extension": ".py",
   "mimetype": "text/x-python",
   "name": "python",
   "nbconvert_exporter": "python",
   "pygments_lexer": "ipython3",
   "version": "3.8.3"
  }
 },
 "nbformat": 4,
 "nbformat_minor": 1
}
